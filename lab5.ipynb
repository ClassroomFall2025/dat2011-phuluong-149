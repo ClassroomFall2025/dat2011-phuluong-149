{
 "cells": [
  {
   "cell_type": "markdown",
   "id": "fdeff819",
   "metadata": {},
   "source": [
    "# Sinh Viên thực hiện Lab 5 ở Đây"
   ]
  },
  {
   "cell_type": "markdown",
   "id": "acc5d7dc",
   "metadata": {},
   "source": [
    "## Lab 5 - Bài 1"
   ]
  },
  {
   "cell_type": "code",
   "execution_count": 2,
   "id": "001e0507",
   "metadata": {},
   "outputs": [
    {
     "name": "stdout",
     "output_type": "stream",
     "text": [
      "Sản phẩm: Beer SG có giá: 3000000 và được giảm giá: 30000, thuế nhập khẩu: 300000.0\n",
      "Sản phẩm: Rượu vang có giá: 4000000 và được giảm giá: 60000, thuế nhập khẩu: 400000.0\n"
     ]
    }
   ],
   "source": [
    "# Code lab 5 bài 1 ở đây\n",
    "from sp import *\n",
    "\n",
    "sp1 = SanPham(\"Beer SG\", 3000000, 30000)\n",
    "sp1.xuat_tt_sp()\n",
    "sp2 = SanPham(\"Rượu vang\", 4000000, 60000)\n",
    "sp2.xuat_tt_sp()"
   ]
  },
  {
   "cell_type": "markdown",
   "id": "c0835310",
   "metadata": {},
   "source": [
    "## Lab 5 - Bài 2"
   ]
  },
  {
   "cell_type": "code",
   "execution_count": 1,
   "id": "fa9cb39f",
   "metadata": {},
   "outputs": [
    {
     "name": "stdout",
     "output_type": "stream",
     "text": [
      "Sản phẩm: bia có giá: 40000.0 và được giảm giá: 40.0, thuế nhập khẩu: 4000.0\n",
      "Sản phẩm: rượu có giá: 4000.0 và được giảm giá: 500.0, thuế nhập khẩu: 400.0\n"
     ]
    }
   ],
   "source": [
    "# Code lab 5  bài 2 ở đây\n",
    "from sp import *\n",
    "\n",
    "sp1 = SanPham(\"\",\"\",\"\")\n",
    "sp1.nhap_sp()\n",
    "sp1.xuat_tt_sp()\n",
    "sp2 = SanPham(\"\",\"\",\"\")\n",
    "sp2.nhap_sp()\n",
    "sp2.xuat_tt_sp()"
   ]
  },
  {
   "cell_type": "markdown",
   "id": "0f2483fe",
   "metadata": {},
   "source": [
    "## Lab 5 - Bài 3"
   ]
  },
  {
   "cell_type": "code",
   "execution_count": null,
   "id": "7034990b",
   "metadata": {},
   "outputs": [
    {
     "name": "stdout",
     "output_type": "stream",
     "text": [
      "Sản phẩm: tên gì có giá: 60000.0 và được giảm giá: 5222220.0, thuế nhập khẩu: 6000.0\n"
     ]
    }
   ],
   "source": [
    "# Code lab 5  bài 3 ở đây\n",
    "from sp import SanPham_Bai3\n",
    "sp1 = SanPham_Bai3(\"\",\"\",\"\")\n",
    "sp1.nhap_sp()\n",
    "sp1.xuat_tt_sp()\n",
    "sp2 = SanPham_Bai3(\"\",\"\",\"\")\n",
    "sp2.nhap_sp()\n",
    "sp2.xuat_tt_sp()\n"
   ]
  },
  {
   "cell_type": "markdown",
   "id": "d36ea3d3",
   "metadata": {},
   "source": [
    "## Lab 5 - Bài 4"
   ]
  },
  {
   "cell_type": "code",
   "execution_count": null,
   "id": "4c707ec1",
   "metadata": {},
   "outputs": [],
   "source": [
    "# code lab 5 bài 4 ở đây\n"
   ]
  },
  {
   "cell_type": "markdown",
   "id": "e2b41d4a",
   "metadata": {},
   "source": [
    "## Lab 5 - Bài 5: bài tập làm thêm"
   ]
  },
  {
   "cell_type": "code",
   "execution_count": null,
   "id": "0e0172f7",
   "metadata": {},
   "outputs": [],
   "source": [
    "# code lab 5  bài làm thêm ở đây "
   ]
  }
 ],
 "metadata": {
  "kernelspec": {
   "display_name": "Python 3",
   "language": "python",
   "name": "python3"
  },
  "language_info": {
   "codemirror_mode": {
    "name": "ipython",
    "version": 3
   },
   "file_extension": ".py",
   "mimetype": "text/x-python",
   "name": "python",
   "nbconvert_exporter": "python",
   "pygments_lexer": "ipython3",
   "version": "3.13.7"
  }
 },
 "nbformat": 4,
 "nbformat_minor": 5
}
