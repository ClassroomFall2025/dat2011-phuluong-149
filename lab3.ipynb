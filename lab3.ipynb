{
 "cells": [
  {
   "cell_type": "markdown",
   "id": "fdeff819",
   "metadata": {},
   "source": [
    "# Sinh Viên thực hiện Lab 3 ở Đây"
   ]
  },
  {
   "cell_type": "markdown",
   "id": "acc5d7dc",
   "metadata": {},
   "source": [
    "## Lab 3 - Bài 1"
   ]
  },
  {
   "cell_type": "code",
   "execution_count": 4,
   "id": "001e0507",
   "metadata": {},
   "outputs": [
    {
     "name": "stdout",
     "output_type": "stream",
     "text": [
      "Danh sách hiện tại: [8]\n",
      "Danh sách hiện tại: [8, 6]\n",
      "Danh sách hiện tại: [8, 6, 2]\n",
      "Danh sách hiện tại: [8, 6, 2, 9]\n",
      "Danh sách hiện tại: [8, 6, 2, 9, 25]\n",
      "Danh sách hiện tại: [8, 6, 2, 9, 25, 48]\n",
      "Danh sách hiện tại: [8, 6, 2, 9, 25, 48, 65]\n",
      "Danh sách hiện tại: [8, 6, 2, 9, 25, 48, 65, 1]\n",
      "Đã thoát chương trình\n",
      "Dãy số sau khi sắp xếp: [1, 2, 6, 8, 9, 25, 48, 65]\n",
      "Giá trị nhỏ nhất: 1\n",
      "Giá trị lớn nhất: 65\n",
      "Kết quả:  21.0\n"
     ]
    }
   ],
   "source": [
    "# Code lab 3 bài 1 ở đây\n",
    "day_so = []\n",
    "tong = 0\n",
    "dem_so = 0\n",
    "#nhập dãy số\n",
    "\n",
    "while True:\n",
    "    so = input(\"Nhập số (hoặc 'q' để thoát): \")\n",
    "    # if so.lower() == 'q':\n",
    "    #     print(\"Thoát chương trình\")\n",
    "    #     break\n",
    "    # else:\n",
    "    #     phan_tu = int(so)\n",
    "    #     day_so.append(phan_tu)\n",
    "    #     print(\"Danh sách hiện tại:\", day_so)\n",
    "    # so = input(\"Nhập số: \")\n",
    "#kiểm tra nhập\n",
    "\n",
    "    try:\n",
    "        phan_tu = int(so)\n",
    "        day_so.append(phan_tu)\n",
    "        print(\"Danh sách hiện tại:\", day_so)\n",
    "    except ValueError:\n",
    "        if so.lower() == 'q':\n",
    "            print(\"Đã thoát chương trình\")\n",
    "            break\n",
    "        print(\"Vui lòng nhập một số hợp lệ hoặc 'q' để thoát.\")\n",
    "#sắp xếp dãy số\n",
    "\n",
    "day_so.sort()\n",
    "print(\"Dãy số sau khi sắp xếp:\", day_so)\n",
    "print(\"Giá trị nhỏ nhất:\", day_so[0])\n",
    "print(\"Giá trị lớn nhất:\", day_so[-1])\n",
    "\n",
    "#tính tổng và đếm số các phần tử chia hết cho 3\n",
    "for phan_tu in day_so:\n",
    "    if phan_tu % 3 == 0:\n",
    "     tong += phan_tu\n",
    "     dem_so += 1\n",
    "if dem_so != 0:\n",
    "    print(\"Kết quả: \", tong/dem_so)\n",
    "else:\n",
    "    print(\"Không có số nào chia hết cho 3 trong dãy số.\")\n"
   ]
  },
  {
   "cell_type": "markdown",
   "id": "c0835310",
   "metadata": {},
   "source": [
    "## Lab 3 - Bài 2"
   ]
  },
  {
   "cell_type": "code",
   "execution_count": null,
   "id": "fa9cb39f",
   "metadata": {},
   "outputs": [
    {
     "name": "stdout",
     "output_type": "stream",
     "text": [
      "\n",
      "Thông tin sinh viên:\n",
      "Sinh viên: dsad - đạt: 5.0 điểm - Xếp loại: Trung bình\n"
     ]
    }
   ],
   "source": [
    "# Code lab 3  bài 2 ở đây\n",
    "sv = {}\n",
    "sv[\"Họ tên\"] = input(\"Nhập họ tên sinh viên: \")\n",
    "sv[\"Điểm\"] = float(input(\"Nhập điểm: \"))\n",
    "\n",
    "diem = sv[\"Điểm\"]\n",
    "\n",
    "if diem < 5:\n",
    "    xeploai = \"Yếu\"\n",
    "elif 5 <= diem < 7:\n",
    "    xeploai = \"Trung bình\"\n",
    "elif 7 <= diem < 8:\n",
    "    xeploai = \"Khá\"\n",
    "elif 8 <= diem < 9:\n",
    "    xeploai = \"Giỏi\"\n",
    "else:\n",
    "    xeploai = \"Xuất sắc\"\n",
    "\n",
    "sv[\"Xếp loại\"] = xeploai\n",
    "\n",
    "print(\"\\nThông tin sinh viên:\")\n",
    "print(\"Sinh viên:\", sv[\"Họ tên\"], \"- Đạt:\", sv[\"Điểm\"], \"điểm - Xếp loại:\", sv[\"Xếp loại\"])\n"
   ]
  },
  {
   "cell_type": "markdown",
   "id": "0f2483fe",
   "metadata": {},
   "source": [
    "## Lab 3 - Bài 3"
   ]
  },
  {
   "cell_type": "code",
   "execution_count": null,
   "id": "7034990b",
   "metadata": {},
   "outputs": [],
   "source": [
    "# Code lab 3  bài 3 ở đây"
   ]
  },
  {
   "cell_type": "markdown",
   "id": "d36ea3d3",
   "metadata": {},
   "source": [
    "## Lab 3 - Bài 4"
   ]
  },
  {
   "cell_type": "code",
   "execution_count": null,
   "id": "4c707ec1",
   "metadata": {},
   "outputs": [],
   "source": [
    "# code lab 3 bài 4 ở đây"
   ]
  },
  {
   "cell_type": "markdown",
   "id": "e2b41d4a",
   "metadata": {},
   "source": [
    "## Lab 3 - Bài 5: bài tập làm thêm"
   ]
  },
  {
   "cell_type": "code",
   "execution_count": null,
   "id": "0e0172f7",
   "metadata": {},
   "outputs": [],
   "source": [
    "# code lab 3  bài làm thêm ở đây "
   ]
  }
 ],
 "metadata": {
  "kernelspec": {
   "display_name": "Python 3",
   "language": "python",
   "name": "python3"
  },
  "language_info": {
   "codemirror_mode": {
    "name": "ipython",
    "version": 3
   },
   "file_extension": ".py",
   "mimetype": "text/x-python",
   "name": "python",
   "nbconvert_exporter": "python",
   "pygments_lexer": "ipython3",
   "version": "3.13.7"
  }
 },
 "nbformat": 4,
 "nbformat_minor": 5
}
