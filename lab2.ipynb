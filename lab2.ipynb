{
 "cells": [
  {
   "cell_type": "markdown",
   "id": "fdeff819",
   "metadata": {},
   "source": [
    "# Sinh Viên thực hiện Lab 2 ở Đây"
   ]
  },
  {
   "cell_type": "markdown",
   "id": "acc5d7dc",
   "metadata": {},
   "source": [
    "## Lab 2 - Bài 1"
   ]
  },
  {
   "cell_type": "code",
   "execution_count": 23,
   "id": "001e0507",
   "metadata": {},
   "outputs": [
    {
     "name": "stdout",
     "output_type": "stream",
     "text": [
      "Kiếp con người mong manh như là gió\n",
      "Sống trên đời có được mấy lần vui\n",
      "Sao phải đau mà không thể mỉm cười\n",
      "Gắng buông nỗi ngậm ngùi nơi quá khứ\n",
      "\n",
      "Nếu có thể sao ta không làm thử\n",
      "Để tâm hồn khắc hai chữ bình an\n",
      "Cho đôi chân bước thanh thản nhẹ nhàng\n",
      "Dù hướng đời có muôn ngàn đá sỏi\n",
      "Vị trí của từ:  5\n",
      "Kết quả là: con người\n",
      "In hoa chữ đã tìm được: CON NGƯỜI\n"
     ]
    }
   ],
   "source": [
    "# Code lab 2 bài 1 ở đây\n",
    "Bai_Tho = \"\"\"Kiếp con người mong manh như là gió\n",
    "Sống trên đời có được mấy lần vui\n",
    "Sao phải đau mà không thể mỉm cười\n",
    "Gắng buông nỗi ngậm ngùi nơi quá khứ\n",
    "\n",
    "Nếu có thể sao ta không làm thử\n",
    "Để tâm hồn khắc hai chữ bình an\n",
    "Cho đôi chân bước thanh thản nhẹ nhàng\n",
    "Dù hướng đời có muôn ngàn đá sỏi\"\"\"\n",
    "print(Bai_Tho)\n",
    "\n",
    "# Tim_kiem = Bai_Tho.find(\"con người\")\n",
    "# print(\"Kết quả là:\", Tim_kiem)\n",
    "# ketthuc = len(\"con người\") + Tim_kiem\n",
    "# Bai_Tho[Tim_kiem:ketthuc]\n",
    "# Timkiem = Bai_Tho.find(\"ngậm ngùi\")\n",
    "# print(\"Vị trí của từ: \", Timkiem)\n",
    "# ketthuc = len(\"ngậm ngùi\") + Timkiem\n",
    "# print(\"Kết quả là:\", Bai_Tho[Timkiem:ketthuc])\n",
    "Tim_tư = input(\"Nhập từ cần tìm: \")\n",
    "# Tim_kiem = Bai_Tho.find(Tim_tư)\n",
    "# print(\"Vị trí của từ: \", Tim_kiem)\n",
    "# ketthuc = len(Tim_tư) + Tim_kiem\n",
    "Tim_kiem = Bai_Tho.find(Tim_tư)\n",
    "print(\"Vị trí của từ: \", Tim_kiem)\n",
    "ketthuc = len(Tim_tư) + Tim_kiem\n",
    "print(\"Kết quả là:\", Bai_Tho[Tim_kiem:ketthuc])\n",
    "print(\"In hoa chữ đã tìm được:\", Bai_Tho[Tim_kiem:ketthuc].upper())\n",
    "\n"
   ]
  },
  {
   "cell_type": "markdown",
   "id": "c0835310",
   "metadata": {},
   "source": [
    "## Lab 2 - Bài 2"
   ]
  },
  {
   "cell_type": "code",
   "execution_count": 1,
   "id": "fa9cb39f",
   "metadata": {},
   "outputs": [
    {
     "name": "stdout",
     "output_type": "stream",
     "text": [
      "... Kiếp con người mong manh như là gió\n",
      "Sống trên đời có được mấy lần vui\n",
      "Sao phải đau mà không thể mỉm cười\n",
      "Gắng buông nỗi ngậm ngùi nơi quá khứ\n",
      "\n",
      "Nếu có thể sao ta không làm thử\n",
      "Để tâm hồn khắc hai chữ hạnh phúc\n",
      "Cho đôi chân bước thanh thản nhẹ nhàng\n",
      "Dù hướng đời có muôn ngàn đá sỏi ...\n"
     ]
    }
   ],
   "source": [
    "# Code lab 2  bài 2 ở đây\n",
    "Bai_Tho = \"\"\"Kiếp con người mong manh như là gió\n",
    "Sống trên đời có được mấy lần vui\n",
    "Sao phải đau mà không thể mỉm cười\n",
    "Gắng buông nỗi ngậm ngùi nơi quá khứ\n",
    "\n",
    "Nếu có thể sao ta không làm thử\n",
    "Để tâm hồn khắc hai chữ bình an\n",
    "Cho đôi chân bước thanh thản nhẹ nhàng\n",
    "Dù hướng đời có muôn ngàn đá sỏi\"\"\"\n",
    "Bai_Tho_sau = Bai_Tho.replace(\"bình an\", \"hạnh phúc\")\n",
    "print(\"... \" + Bai_Tho_sau + \" ...\")"
   ]
  },
  {
   "cell_type": "markdown",
   "id": "0f2483fe",
   "metadata": {},
   "source": [
    "## Lab 2 - Bài 3"
   ]
  },
  {
   "cell_type": "code",
   "execution_count": null,
   "id": "7034990b",
   "metadata": {},
   "outputs": [
    {
     "name": "stdout",
     "output_type": "stream",
     "text": [
      "phương trình có một nghiệm duy nhất: x = -1.25\n"
     ]
    }
   ],
   "source": [
    "# Code lab 2  bài 3 ở đây\n",
    "a = float(input(\"nhập số a: \"))\n",
    "b = float(input(\"nhập số b: \"))\n",
    "if a == 0:\n",
    "    if b == 0:\n",
    "        print(\"phương trình vô số nghiệm.\")\n",
    "    else:\n",
    "        print(\"phương trình vô nghiệm.\")\n",
    "else: print(f\"phương trình có một nghiệm duy nhất: x = {-b/a: .2f} \")"
   ]
  },
  {
   "cell_type": "markdown",
   "id": "d36ea3d3",
   "metadata": {},
   "source": [
    "## Lab 2 - Bài 4"
   ]
  },
  {
   "cell_type": "code",
   "execution_count": 23,
   "id": "4c707ec1",
   "metadata": {},
   "outputs": [
    {
     "name": "stdout",
     "output_type": "stream",
     "text": [
      "phương trình có hai nghiệm phân biệt: x1 = -0.13, x2 = -2.54\n"
     ]
    }
   ],
   "source": [
    "# code lab 2 bài 4 ở đây\n",
    "import math\n",
    "\n",
    "\n",
    "a = float(input(\"nhập số a: \"))\n",
    "b = float(input(\"nhập số b: \"))\n",
    "c = float(input(\"nhập số c: \"))\n",
    "if a == 0:\n",
    "    if b == 0:\n",
    "        if c == 0:\n",
    "            print(\"phương trình vô số nghiệm.\")\n",
    "        else:\n",
    "            print(\"phương trình vô nghiệm.\")\n",
    "    else:\n",
    "        print(f\"phương trình có một nghiệm duy nhất: x = {-c/b: .2f}\")\n",
    "if a != 0:\n",
    "    delta = b**2 - 4*a*c\n",
    "    if delta > 0:\n",
    "        x1 = (-b + math.sqrt(abs(delta))) / (2*a)\n",
    "        x2 = (-b - math.sqrt(abs(delta))) / (2*a)\n",
    "        print(f\"phương trình có hai nghiệm phân biệt: x1 = {x1: .2f}, x2 = {x2: .2f}\")\n",
    "    elif delta == 0:\n",
    "        print(f\"phương trình có nghiệm kép: x = {-b/(2*a): .2f}\")\n",
    "    else:\n",
    "        print(\"phương trình vô nghiệm.\")"
   ]
  },
  {
   "cell_type": "markdown",
   "id": "e2b41d4a",
   "metadata": {},
   "source": [
    "## Lab 2 - Bài 5: bài tập làm thêm"
   ]
  },
  {
   "cell_type": "code",
   "execution_count": null,
   "id": "0e0172f7",
   "metadata": {},
   "outputs": [],
   "source": [
    "# code lab 2  bài làm thêm ở đây \n",
    "import math\n",
    "Nhap1 = float(input(\"Nhập số a: \"))\n",
    "Nhap2 = float(input(\"Nhập số b: \"))\n",
    "Phep_Cong = Nhap1 + Nhap2\n",
    "Phep_Tru = Nhap1 - Nhap2\n",
    "Phep_Nhan = Nhap1 * Nhap2\n",
    "Phep_Chia = Nhap1 / Nhap2\n",
    "Luy_Thua = Nhap1 ** Nhap2\n",
    "Can_Bac_Hai = math.sqrt(Nhap1+Nhap2)\n",
    "Ham_Sin = math.sin(Nhap1+Nhap2)\n",
    "Ham_Cos = math.cos(Nhap1+Nhap2)\n",
    "Ham_Tan = math.tan(Nhap1+Nhap2)\n",
    "Ham_Log = math.log(Nhap1+Nhap2)\n",
    "print(f\"Phép cộng: {Phep_Cong}\")\n",
    "print(f\"Phép trừ: {Phep_Tru}\")\n",
    "print(f\"Phép nhân: {Phep_Nhan}\")\n",
    "print(f\"Phép chia: {Phep_Chia}\")\n",
    "print(f\"Lũy thừa: {Luy_Thua}\")\n",
    "print(f\"Căn bậc hai: {Can_Bac_Hai}\")\n",
    "print(f\"Hàm sin: {Ham_Sin}\")\n",
    "print(f\"Hàm cos: {Ham_Cos}\")\n",
    "print(f\"Hàm tan: {Ham_Tan}\")\n",
    "print(f\"Hàm log: {Ham_Log}\")\n",
    "# --- IGNORE ---"
   ]
  }
 ],
 "metadata": {
  "kernelspec": {
   "display_name": "Python 3",
   "language": "python",
   "name": "python3"
  },
  "language_info": {
   "codemirror_mode": {
    "name": "ipython",
    "version": 3
   },
   "file_extension": ".py",
   "mimetype": "text/x-python",
   "name": "python",
   "nbconvert_exporter": "python",
   "pygments_lexer": "ipython3",
   "version": "3.13.7"
  }
 },
 "nbformat": 4,
 "nbformat_minor": 5
}
