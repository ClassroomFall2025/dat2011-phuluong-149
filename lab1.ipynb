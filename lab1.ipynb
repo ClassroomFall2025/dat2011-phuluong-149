{
 "cells": [
  {
   "cell_type": "markdown",
   "id": "fdeff819",
   "metadata": {},
   "source": [
    "# Sinh Viên thực hiện Lab 1 ở Đây"
   ]
  },
  {
   "cell_type": "markdown",
   "id": "acc5d7dc",
   "metadata": {},
   "source": [
    "## Lab 1 - Bài 1"
   ]
  },
  {
   "cell_type": "code",
   "execution_count": 1,
   "id": "001e0507",
   "metadata": {},
   "outputs": [
    {
     "name": "stdout",
     "output_type": "stream",
     "text": [
      "Xin chào!\n",
      "TÔi là Phú Lương\n",
      "Tôi đến từ Việt Nam\n"
     ]
    }
   ],
   "source": [
    "# Code lab 1 bài 1 ở đây\n",
    "print('Xin chào!')\n",
    "print('TÔi là Phú Lương')\n",
    "print('Tôi đến từ Việt Nam')"
   ]
  },
  {
   "cell_type": "markdown",
   "id": "c0835310",
   "metadata": {},
   "source": [
    "## Lab 1 - Bài 2"
   ]
  },
  {
   "cell_type": "code",
   "execution_count": null,
   "id": "fa9cb39f",
   "metadata": {},
   "outputs": [
    {
     "name": "stdout",
     "output_type": "stream",
     "text": [
      "Chu vi hình chữ nhật là: 10.0\n",
      "Diện tích hình chữ nhật là: 4.0\n"
     ]
    }
   ],
   "source": [
    "# Code lab 1  bài 2 ở đây\n",
    "Chieu_dai = float(input('Tự nhập chiều dài: '))\n",
    "Chieu_rong = float(input('Tự nhập chiều rộng: '))\n",
    "Chuvi = (Chieu_dai + Chieu_rong) * 2\n",
    "dientich = Chieu_dai * Chieu_rong\n",
    "print(f\"Chu vi hình chữ nhật là: {Chuvi}\")\n",
    "print(f\"Diện tích hình chữ nhật là: {dientich}\")"
   ]
  },
  {
   "cell_type": "markdown",
   "id": "0f2483fe",
   "metadata": {},
   "source": [
    "## Lab 1 - Bài 3"
   ]
  },
  {
   "cell_type": "code",
   "execution_count": 2,
   "id": "7034990b",
   "metadata": {},
   "outputs": [
    {
     "name": "stdout",
     "output_type": "stream",
     "text": [
      "\"...\n",
      "Sống không giận, không hờn không oán trách\n",
      "Sống mỉm cười, với thử thách chông gai\n",
      "Sống vươn lên, theo kịp ánh ban mai\n",
      "Sống chan hòa, với những người chung sống.\n",
      " \n",
      "Sống là động, nhưng lòng luôn bất động\n",
      "Sống là thương, nhưng lòng chẳng vấn vương\n",
      "Sống yên vui, danh lợi mãi coi thường\n",
      "Tâm bất biến, giữa dòng đời vạn biến.\n"
     ]
    }
   ],
   "source": [
    "# Code lab 1  bài 3 ở đây\n",
    "print('\"...')\n",
    "Tuisong= \"Sống\"\n",
    "print(f\"{Tuisong} không giận, không hờn không oán trách\", end=\"\\n\")\n",
    "print(f\"{Tuisong} mỉm cười, với thử thách chông gai\", end=\"\\n\")\n",
    "print(f\"{Tuisong} vươn lên, theo kịp ánh ban mai\", end=\"\\n\")\n",
    "print(f\"{Tuisong} chan hòa, với những người chung sống.\", end=\"\\n\")\n",
    "print(' ')\n",
    "print(f\"{Tuisong} là động, nhưng lòng luôn bất động\", end=\"\\n\")\n",
    "print(f\"{Tuisong} là thương, nhưng lòng chẳng vấn vương\", end=\"\\n\")\n",
    "print(f\"{Tuisong} yên vui, danh lợi mãi coi thường\", end=\"\\n\")\n",
    "print(\"Tâm bất biến, giữa dòng đời vạn biến.\", end=\"\\n\")"
   ]
  },
  {
   "cell_type": "markdown",
   "id": "d36ea3d3",
   "metadata": {},
   "source": [
    "## Lab 1 - Bài 4"
   ]
  },
  {
   "cell_type": "code",
   "execution_count": 3,
   "id": "4c707ec1",
   "metadata": {},
   "outputs": [
    {
     "name": "stdout",
     "output_type": "stream",
     "text": [
      "Giá trị delta = -119.0\n",
      "Giá trị căn delta = 10.908712114635714\n"
     ]
    }
   ],
   "source": [
    "# code lab 1 bài 4 ở đây\n",
    "import math\n",
    "\n",
    "\n",
    "a = float(input(\"Nhập hệ số a: \"))\n",
    "b = float(input(\"Nhập hệ số b: \"))\n",
    "c = float(input(\"Nhập hệ số c: \"))\n",
    "\n",
    "delta = b*b - 4*a*c\n",
    "Can_delta = math.sqrt(abs(delta))\n",
    "\n",
    "print(\"Giá trị delta =\", delta)\n",
    "print(\"Giá trị căn delta =\", Can_delta)\n"
   ]
  },
  {
   "cell_type": "markdown",
   "id": "e2b41d4a",
   "metadata": {},
   "source": [
    "## Lab 1 - Bài 5: bài tập làm thêm"
   ]
  },
  {
   "cell_type": "code",
   "execution_count": null,
   "id": "0e0172f7",
   "metadata": {},
   "outputs": [
    {
     "name": "stdout",
     "output_type": "stream",
     "text": [
      "Phép cộng: 11.0\n",
      "Phép trừ: -1.0\n",
      "Phép nhân: 30.0\n",
      "Phép chia: 0.8333333333333334\n",
      "Lũy thừa: 15625.0\n",
      "Căn bậc hai: 3.3166247903554\n",
      "Hàm sin: -0.9999902065507035\n",
      "Hàm cos: 0.004425697988050785\n",
      "Hàm tan: -225.95084645419513\n",
      "Hàm log: 2.3978952727983707\n"
     ]
    }
   ],
   "source": [
    "# code lab 1  bài làm thêm ở đây \n",
    "import math\n",
    "Nhap1 = float(input(\"Nhập số a:\"))\n",
    "Nhap2 = float(input(\"Nhập số b:\"))\n",
    "Phep_Cong = Nhap1 + Nhap2\n",
    "Phep_Tru = Nhap1 - Nhap2\n",
    "Phep_Nhan = Nhap1 * Nhap2\n",
    "Phep_Chia = Nhap1 / Nhap2\n",
    "Luy_Thua = Nhap1 ** Nhap2\n",
    "Can_Bac_Hai = math.sqrt(Nhap1+Nhap2)\n",
    "Ham_Sin = math.sin(Nhap1+Nhap2)\n",
    "Ham_Cos = math.cos(Nhap1+Nhap2)\n",
    "Ham_Tan = math.tan(Nhap1+Nhap2)\n",
    "Ham_Log = math.log(Nhap1+Nhap2)\n",
    "print(f\"Phép cộng: {Phep_Cong}\")\n",
    "print(f\"Phép trừ: {Phep_Tru}\")\n",
    "print(f\"Phép nhân: {Phep_Nhan}\")\n",
    "print(f\"Phép chia: {Phep_Chia}\")\n",
    "print(f\"Lũy thừa: {Luy_Thua}\")\n",
    "print(f\"Căn bậc hai: {Can_Bac_Hai}\")\n",
    "print(f\"Hàm sin: {Ham_Sin}\")\n",
    "print(f\"Hàm cos: {Ham_Cos}\")\n",
    "print(f\"Hàm tan: {Ham_Tan}\")\n",
    "print(f\"Hàm log: {Ham_Log}\")\n",
    "--- IGNORE ---"
   ]
  }
 ],
 "metadata": {
  "kernelspec": {
   "display_name": "Python 3",
   "language": "python",
   "name": "python3"
  },
  "language_info": {
   "codemirror_mode": {
    "name": "ipython",
    "version": 3
   },
   "file_extension": ".py",
   "mimetype": "text/x-python",
   "name": "python",
   "nbconvert_exporter": "python",
   "pygments_lexer": "ipython3",
   "version": "3.13.7"
  }
 },
 "nbformat": 4,
 "nbformat_minor": 5
}
