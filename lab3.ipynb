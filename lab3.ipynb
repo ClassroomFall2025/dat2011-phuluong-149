{
 "cells": [
  {
   "cell_type": "markdown",
   "id": "fdeff819",
   "metadata": {},
   "source": [
    "# Sinh Viên thực hiện Lab 3 ở Đây"
   ]
  },
  {
   "cell_type": "markdown",
   "id": "acc5d7dc",
   "metadata": {},
   "source": [
    "## Lab 3 - Bài 1"
   ]
  },
  {
   "cell_type": "code",
   "execution_count": 4,
   "id": "001e0507",
   "metadata": {},
   "outputs": [
    {
     "name": "stdout",
     "output_type": "stream",
     "text": [
      "Danh sách hiện tại: [8]\n",
      "Danh sách hiện tại: [8, 6]\n",
      "Danh sách hiện tại: [8, 6, 2]\n",
      "Danh sách hiện tại: [8, 6, 2, 9]\n",
      "Danh sách hiện tại: [8, 6, 2, 9, 25]\n",
      "Danh sách hiện tại: [8, 6, 2, 9, 25, 48]\n",
      "Danh sách hiện tại: [8, 6, 2, 9, 25, 48, 65]\n",
      "Danh sách hiện tại: [8, 6, 2, 9, 25, 48, 65, 1]\n",
      "Đã thoát chương trình\n",
      "Dãy số sau khi sắp xếp: [1, 2, 6, 8, 9, 25, 48, 65]\n",
      "Giá trị nhỏ nhất: 1\n",
      "Giá trị lớn nhất: 65\n",
      "Kết quả:  21.0\n"
     ]
    }
   ],
   "source": [
    "# Code lab 3 bài 1 ở đây\n",
    "day_so = []\n",
    "tong = 0\n",
    "dem_so = 0\n",
    "#nhập dãy số\n",
    "\n",
    "while True:\n",
    "    so = input(\"Nhập số (hoặc 'q' để thoát): \")\n",
    "    # if so.lower() == 'q':\n",
    "    #     print(\"Thoát chương trình\")\n",
    "    #     break\n",
    "    # else:\n",
    "    #     phan_tu = int(so)\n",
    "    #     day_so.append(phan_tu)\n",
    "    #     print(\"Danh sách hiện tại:\", day_so)\n",
    "    # so = input(\"Nhập số: \")\n",
    "#kiểm tra nhập\n",
    "\n",
    "    try:\n",
    "        phan_tu = int(so)\n",
    "        day_so.append(phan_tu)\n",
    "        print(\"Danh sách hiện tại:\", day_so)\n",
    "    except ValueError:\n",
    "        if so.lower() == 'q':\n",
    "            print(\"Đã thoát chương trình\")\n",
    "            break\n",
    "        print(\"Vui lòng nhập một số hợp lệ hoặc 'q' để thoát.\")\n",
    "#sắp xếp dãy số\n",
    "\n",
    "day_so.sort()\n",
    "print(\"Dãy số sau khi sắp xếp:\", day_so)\n",
    "print(\"Giá trị nhỏ nhất:\", day_so[0])\n",
    "print(\"Giá trị lớn nhất:\", day_so[-1])\n",
    "\n",
    "#tính tổng và đếm số các phần tử chia hết cho 3\n",
    "for phan_tu in day_so:\n",
    "    if phan_tu % 3 == 0:\n",
    "     tong += phan_tu\n",
    "     dem_so += 1\n",
    "if dem_so != 0:\n",
    "    print(\"Kết quả: \", tong/dem_so)\n",
    "else:\n",
    "    print(\"Không có số nào chia hết cho 3 trong dãy số.\")\n"
   ]
  },
  {
   "cell_type": "markdown",
   "id": "c0835310",
   "metadata": {},
   "source": [
    "## Lab 3 - Bài 2"
   ]
  },
  {
   "cell_type": "code",
   "execution_count": null,
   "id": "fa9cb39f",
   "metadata": {},
   "outputs": [
    {
     "name": "stdout",
     "output_type": "stream",
     "text": [
      "Không nhập thông tin sinh viên nữa.\n",
      "\n",
      "Danh sách sinh viên:\n",
      "Sinh viên: Tui tên gì - Đạt: 4.0 điểm - Xếp loại: Học lại\n",
      "Tổng số sinh viên: 1\n",
      "Danh sách sinh viên: [{'Họ tên': 'Tui tên gì', 'Điểm': 4.0, 'Xếp loại': 'Học lại'}]\n"
     ]
    }
   ],
   "source": [
    "# Code lab 3  bài 2 ở đây\n",
    "# sv = {}\n",
    "# sv[\"Họ tên\"] = input(\"Nhập họ tên sinh viên: \")\n",
    "# sv[\"Điểm\"] = float(input(\"Nhập điểm: \"))\n",
    "\n",
    "# diem = sv[\"Điểm\"]\n",
    "\n",
    "# if diem < 5:\n",
    "#     xeploai = \"Yếu\"\n",
    "# elif 5 <= diem < 7:\n",
    "#     xeploai = \"Trung bình\"\n",
    "# elif 7 <= diem < 8:\n",
    "#     xeploai = \"Khá\"\n",
    "# elif 8 <= diem < 9:\n",
    "#     xeploai = \"Giỏi\"\n",
    "# else:\n",
    "#     xeploai = \"Xuất sắc\"\n",
    "\n",
    "# sv[\"Xếp loại\"] = xeploai\n",
    "\n",
    "# print(\"\\nThông tin sinh viên:\")\n",
    "# print(\"Sinh viên:\", sv[\"Họ tên\"], \"- Đạt:\", sv[\"Điểm\"], \"điểm - Xếp loại:\", sv[\"Xếp loại\"])\n",
    "list_sv = []\n",
    "while True:\n",
    "    sinh_vien = input(\"Nhập thông tin sinh viên (gõ 'p' để nhập, 'q' để thoát): \").strip().lower()\n",
    "    if sinh_vien == 'q':\n",
    "        print(\"Không nhập thêm sinh viên nữa.\")\n",
    "        break\n",
    "    elif sinh_vien == 'p':\n",
    "        sv = {}\n",
    "        sv[\"Họ tên\"] = input(\"Nhập họ tên sinh viên: \")\n",
    "        sv[\"Điểm\"] = float(input(\"Nhập điểm: \"))\n",
    "        \n",
    "        diem = sv[\"Điểm\"]\n",
    "        \n",
    "        if diem < 5:\n",
    "            xeploai = \"Yếu\"\n",
    "        elif 5 <= diem < 7:\n",
    "            xeploai = \"Trung bình\"\n",
    "        elif 7 <= diem < 8:\n",
    "            xeploai = \"Khá\"\n",
    "        elif 8 <= diem < 9:\n",
    "            xeploai = \"Giỏi\"\n",
    "        else:\n",
    "            xeploai = \"Xuất sắc\"\n",
    "        \n",
    "        sv[\"Xếp loại\"] = xeploai\n",
    "        \n",
    "        list_sv.append(sv)\n",
    "        \n",
    "    else:\n",
    "        print(\"Vui lòng nhập 'thêm' hoặc 'q'.\")\n",
    "        \n",
    "print(\"\\nDanh sách sinh viên:\")\n",
    "for sv in list_sv:\n",
    "    print(\"Sinh viên:\", sv[\"Họ tên\"], \"- Đạt:\", sv[\"Điểm\"], \"điểm - Xếp loại:\", sv[\"Xếp loại\"])\n",
    "print(\"Tổng số sinh viên:\", len(list_sv))\n",
    "\n"
   ]
  },
  {
   "cell_type": "markdown",
   "id": "0f2483fe",
   "metadata": {},
   "source": [
    "## Lab 3 - Bài 3"
   ]
  },
  {
   "cell_type": "code",
   "execution_count": 8,
   "id": "7034990b",
   "metadata": {},
   "outputs": [
    {
     "name": "stdout",
     "output_type": "stream",
     "text": [
      "7 là số nguyên tố\n"
     ]
    }
   ],
   "source": [
    "# Code lab 3  bài 3 ở đây\n",
    "# Bài 3: Kiểm tra số nguyên tố\n",
    "n = int(input(\"Nhập một số nguyên: \"))\n",
    "ok = True \n",
    "i = 2\n",
    "if n < 2:\n",
    "    ok = False\n",
    "while i < (n-1):\n",
    "    if n % i == 0:\n",
    "        ok = False\n",
    "        break\n",
    "    i += 1\n",
    "if ok:\n",
    "    print(n, \"là số nguyên tố\")\n",
    "else:\n",
    "    print(n, \"không phải là số nguyên tố\")\n"
   ]
  },
  {
   "cell_type": "markdown",
   "id": "d36ea3d3",
   "metadata": {},
   "source": [
    "## Lab 3 - Bài 4"
   ]
  },
  {
   "cell_type": "code",
   "execution_count": null,
   "id": "4c707ec1",
   "metadata": {},
   "outputs": [
    {
     "name": "stdout",
     "output_type": "stream",
     "text": [
      "1 x 1 = 1\t2 x 1 = 2\t3 x 1 = 3\t4 x 1 = 4\t5 x 1 = 5\t6 x 1 = 6\t7 x 1 = 7\t8 x 1 = 8\t9 x 1 = 9\t\n",
      "1 x 2 = 2\t2 x 2 = 4\t3 x 2 = 6\t4 x 2 = 8\t5 x 2 = 10\t6 x 2 = 12\t7 x 2 = 14\t8 x 2 = 16\t9 x 2 = 18\t\n",
      "1 x 3 = 3\t2 x 3 = 6\t3 x 3 = 9\t4 x 3 = 12\t5 x 3 = 15\t6 x 3 = 18\t7 x 3 = 21\t8 x 3 = 24\t9 x 3 = 27\t\n",
      "1 x 4 = 4\t2 x 4 = 8\t3 x 4 = 12\t4 x 4 = 16\t5 x 4 = 20\t6 x 4 = 24\t7 x 4 = 28\t8 x 4 = 32\t9 x 4 = 36\t\n",
      "1 x 5 = 5\t2 x 5 = 10\t3 x 5 = 15\t4 x 5 = 20\t5 x 5 = 25\t6 x 5 = 30\t7 x 5 = 35\t8 x 5 = 40\t9 x 5 = 45\t\n",
      "1 x 6 = 6\t2 x 6 = 12\t3 x 6 = 18\t4 x 6 = 24\t5 x 6 = 30\t6 x 6 = 36\t7 x 6 = 42\t8 x 6 = 48\t9 x 6 = 54\t\n",
      "1 x 7 = 7\t2 x 7 = 14\t3 x 7 = 21\t4 x 7 = 28\t5 x 7 = 35\t6 x 7 = 42\t7 x 7 = 49\t8 x 7 = 56\t9 x 7 = 63\t\n",
      "1 x 8 = 8\t2 x 8 = 16\t3 x 8 = 24\t4 x 8 = 32\t5 x 8 = 40\t6 x 8 = 48\t7 x 8 = 56\t8 x 8 = 64\t9 x 8 = 72\t\n",
      "1 x 9 = 9\t2 x 9 = 18\t3 x 9 = 27\t4 x 9 = 36\t5 x 9 = 45\t6 x 9 = 54\t7 x 9 = 63\t8 x 9 = 72\t9 x 9 = 81\t\n"
     ]
    }
   ],
   "source": [
    "# code lab 3 bài 4 ở đây\n",
    "for i in range(1, 10):\n",
    "    for j in range(1, 10):\n",
    "        print(f\"{j} x {i} = {i*j}\", end=\"\\t\")\n",
    "    print()\n"
   ]
  },
  {
   "cell_type": "markdown",
   "id": "e2b41d4a",
   "metadata": {},
   "source": [
    "## Lab 3 - Bài 5: bài tập làm thêm"
   ]
  },
  {
   "cell_type": "code",
   "execution_count": 2,
   "id": "0e0172f7",
   "metadata": {},
   "outputs": [
    {
     "name": "stdout",
     "output_type": "stream",
     "text": [
      "\n",
      "----- MENU -----\n",
      "0. Thoát chương trình\n",
      "1. Phép tính cơ bản: Cộng, trừ, nhân, chia\n",
      "2. Lũy thừa\n",
      "3. Căn bậc hai\n",
      "4. Hàm lượng giác: Sin, cos, tan\n",
      "5. Logarit: Log cơ số 10, ln, log cơ số tùy chọn\n",
      "6. Giải phương trình bậc nhất\n",
      "7. Giải phương trình bậc hai\n",
      "8. Lịch sử: Lưu và xem lại các phép tính đã thực hiện\n",
      "9. Thời gian: Hiển thị thời gian hiện tại\n",
      "10. Giao diện thân thiện: Menu để sử dụng bằng tiếng Việt\n",
      "\n",
      "Lũy thừa: 1953125.0\n",
      "\n",
      "----- MENU -----\n",
      "0. Thoát chương trình\n",
      "1. Phép tính cơ bản: Cộng, trừ, nhân, chia\n",
      "2. Lũy thừa\n",
      "3. Căn bậc hai\n",
      "4. Hàm lượng giác: Sin, cos, tan\n",
      "5. Logarit: Log cơ số 10, ln, log cơ số tùy chọn\n",
      "6. Giải phương trình bậc nhất\n",
      "7. Giải phương trình bậc hai\n",
      "8. Lịch sử: Lưu và xem lại các phép tính đã thực hiện\n",
      "9. Thời gian: Hiển thị thời gian hiện tại\n",
      "10. Giao diện thân thiện: Menu để sử dụng bằng tiếng Việt\n",
      "\n",
      "Thoát chương trình\n"
     ]
    }
   ],
   "source": [
    "# code lab 3  bài làm thêm ở đây \n",
    "import math\n",
    "from datetime import datetime\n",
    "menu = \"\"\"\n",
    "----- MENU -----\n",
    "0. Thoát chương trình\n",
    "1. Phép tính cơ bản: Cộng, trừ, nhân, chia\n",
    "2. Lũy thừa\n",
    "3. Căn bậc hai\n",
    "4. Hàm lượng giác: Sin, cos, tan\n",
    "5. Logarit: Log cơ số 10, ln, log cơ số tùy chọn\n",
    "6. Giải phương trình bậc nhất\n",
    "7. Giải phương trình bậc hai\n",
    "8. Lịch sử: Lưu và xem lại các phép tính đã thực hiện\n",
    "9. Thời gian: Hiển thị thời gian hiện tại\n",
    "10. Giao diện thân thiện: Menu để sử dụng bằng tiếng Việt\n",
    "\"\"\"\n",
    "while True:\n",
    "    print(menu)\n",
    "    user_input = input(\"Chọn một lựa chọn chương trình: \")\n",
    "    try:\n",
    "        lua_chon = int(user_input)\n",
    "    except ValueError:\n",
    "        print(\"Vui lòng nhập một số nguyên hợp lệ.\")\n",
    "        continue\n",
    "    match lua_chon:\n",
    "        case 0:\n",
    "            print(\"Thoát chương trình\")\n",
    "            break\n",
    "        case 1:\n",
    "            a = float(input(\"Nhập số thứ nhất: \"))\n",
    "            b = float(input(\"Nhập số thứ hai: \"))\n",
    "            print(\"Tổng:\", a + b)\n",
    "            print(\"Hiệu:\", a - b)\n",
    "            print(\"Tích:\", a * b)\n",
    "            if b != 0:\n",
    "                print(\"Thương:\", a / b)\n",
    "            else:\n",
    "                print(\"Lỗi: Không thể chia cho 0.\")\n",
    "        case 2:\n",
    "            a = float(input(\"Nhập số thứ nhất: \"))\n",
    "            b = float(input(\"Nhập số thứ hai: \"))\n",
    "            print(\"Lũy thừa:\", a ** b)\n",
    "        case 3:\n",
    "            a = float(input(\"Nhập số thứ nhất: \"))\n",
    "            b = float(input(\"Nhập số thứ hai: \"))\n",
    "            print(\"Căn bậc hai của số thứ nhất:\", math.sqrt(a))\n",
    "            print(\"Căn bậc hai của số thứ hai:\", math.sqrt(b))\n",
    "        case 4:\n",
    "            a = float(input(\"Nhập số thứ nhất: \"))\n",
    "            b = float(input(\"Nhập số thứ hai: \"))\n",
    "            print(\"Hàm lượng giác: Sin, Cos, Tan\")\n",
    "        case 5:\n",
    "            a = float(input(\"Nhập số thứ nhất: \")) \n",
    "            b = float(input(\"Nhập số thứ hai: \"))\n",
    "            print(\"Logarit: Log cơ số 10, ln, log cơ số tùy chọn\")\n",
    "            if a <= 0:\n",
    "                print(\"Lỗi: Cơ số phải lớn hơn 0.\")\n",
    "            else:\n",
    "                print(\"Log cơ số 10:\", math.log10(a, 10))\n",
    "                print(\"Log tự nhiên (ln):\", math.log(a, math.e))\n",
    "            \n",
    "            if b > 0:\n",
    "                print(\"Log cơ số tùy chọn:\", math.log(a, b))\n",
    "        case 6:\n",
    "            a = float(input(\"Nhập hệ số a (a khác 0): \"))\n",
    "            b = float(input(\"Nhập hệ số b: \"))\n",
    "            if a != 0:  \n",
    "                x = -b / a\n",
    "                print(\"Nghiệm của phương trình là x =\", x)\n",
    "            else:\n",
    "                print(\"Lỗi: Hệ số 'a' phải khác 0.\")\n",
    "        case 7:\n",
    "            a = float(input(\"Nhập hệ số a (a khác 0): \"))\n",
    "            b = float(input(\"Nhập hệ số b: \"))\n",
    "            c = float(input(\"Nhập hệ số c: \"))\n",
    "            if a == 0:\n",
    "                print(\"Lỗi: Hệ số 'a' phải khác 0.\")\n",
    "            else:\n",
    "                delta = b**2 - 4*a*c\n",
    "                if delta < 0:\n",
    "                    print(\"Phương trình vô nghiệm.\")\n",
    "                elif delta == 0:\n",
    "                    x = -b / (2*a)\n",
    "                    print(\"Phương trình có nghiệm kép x =\", x)\n",
    "                else:\n",
    "                    x1 = (-b + math.sqrt(delta)) / (2*a)\n",
    "                    x2 = (-b - math.sqrt(delta)) / (2*a)\n",
    "                    print(\"Phương trình có hai nghiệm phân biệt:\")\n",
    "                    print(\"x1 =\", x1)\n",
    "                    print(\"x2 =\", x2)\n",
    "        case 8:\n",
    "            print(\"Chức năng lịch sử chưa được triển khai.\")\n",
    "        case 9:\n",
    "            pass\n",
    "        case 10:\n",
    "            print(\"Giao diện thân thiện: Menu để sử dụng bằng tiếng Việt\")\n",
    "        case _:\n",
    "            print(\"Chức năng chưa được triển khai.\")"
   ]
  }
 ],
 "metadata": {
  "kernelspec": {
   "display_name": "Python 3",
   "language": "python",
   "name": "python3"
  },
  "language_info": {
   "codemirror_mode": {
    "name": "ipython",
    "version": 3
   },
   "file_extension": ".py",
   "mimetype": "text/x-python",
   "name": "python",
   "nbconvert_exporter": "python",
   "pygments_lexer": "ipython3",
   "version": "3.13.7"
  }
 },
 "nbformat": 4,
 "nbformat_minor": 5
}
