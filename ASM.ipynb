{
 "cells": [
  {
   "cell_type": "code",
   "execution_count": null,
   "id": "8d6e8de8",
   "metadata": {},
   "outputs": [],
   "source": [
    "import ASM_GD1\n",
    "\n",
    "def menu():\n",
    "    while True:\n",
    "        print(\"\\n=== QUẢN LÝ NHÂN SỰ TIỀN LƯƠNG ===\")\n",
    "        print(\"1. Nhập danh sách nhân viên\")\n",
    "        print(\"2. Xuất danh sách nhân viên\")\n",
    "        print(\"3. Tìm nhân viên theo mã\")\n",
    "        print(\"4. Xóa nhân viên theo mã\")\n",
    "        print(\"5. Cập nhật thông tin nhân viên\")\n",
    "        print(\"6. Tìm nhân viên theo khoảng lương\")\n",
    "        print(\"7. Sắp xếp nhân viên theo họ tên\")\n",
    "        print(\"8. Sắp xếp nhân viên theo thu nhập\")\n",
    "        print(\"9. Xuất 5 nhân viên có thu nhập cao nhất\")\n",
    "        print(\"0. Thoát\")\n",
    "\n",
    "        try:\n",
    "            chon = int(input(\"Chọn chức năng: \"))\n",
    "        except ValueError:\n",
    "            print(\"Vui lòng nhập số hợp lệ!\")\n",
    "            continue\n",
    "\n",
    "        match chon:\n",
    "            case 1: nhap_nhan_vien()\n",
    "            case 2: xuat_danh_sach()\n",
    "            case 3: tim_theo_ma()\n",
    "            case 4: xoa_theo_ma()\n",
    "            case 5: cap_nhat_thong_tin()\n",
    "            case 6: tim_theo_luong()\n",
    "            case 7: sap_xep_theo_ten()\n",
    "            case 8: sap_xep_theo_thu_nhap()\n",
    "            case 9: top5_thu_nhap()\n",
    "            case 0:\n",
    "                print(\"Thoát chương trình.\")\n",
    "                break\n",
    "            case _:\n",
    "                print(\"Chọn sai, vui lòng nhập lại.\")\n",
    "\n"
   ]
  }
 ],
 "metadata": {
  "language_info": {
   "name": "python"
  }
 },
 "nbformat": 4,
 "nbformat_minor": 5
}
