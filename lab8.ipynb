{
 "cells": [
  {
   "cell_type": "markdown",
   "id": "fdeff819",
   "metadata": {},
   "source": [
    "# Sinh Viên thực hiện Lab 8 ở Đây"
   ]
  },
  {
   "cell_type": "markdown",
   "id": "acc5d7dc",
   "metadata": {},
   "source": [
    "## Lab 8 - Bài 1"
   ]
  },
  {
   "cell_type": "code",
   "execution_count": 1,
   "id": "001e0507",
   "metadata": {},
   "outputs": [
    {
     "name": "stdout",
     "output_type": "stream",
     "text": [
      "Tên: LƯƠNG\n",
      "Họ: PHÚ\n",
      "Tên đệm: Đại\n"
     ]
    }
   ],
   "source": [
    "# Code lab 8 bài 1 ở đây\n",
    "Ho_ten = input(\"Nhập họ và tên: \").strip()\n",
    "phan_tu = Ho_ten.split()\n",
    "if len(phan_tu) >= 2:\n",
    "    Ten = phan_tu[0].upper()\n",
    "    Ho = phan_tu[-1].upper()\n",
    "    Ten_dem = \" \".join(phan_tu[1:-1])\n",
    "    print(f\"Tên: {Ten}\")\n",
    "    print(f\"Họ: {Ho}\")\n",
    "    print(f\"Tên đệm: {Ten_dem}\")\n",
    "else:\n",
    "    print(\"Hãy nhập đầy đủ họ và tên.\")"
   ]
  },
  {
   "cell_type": "markdown",
   "id": "c0835310",
   "metadata": {},
   "source": [
    "## Lab 8 - Bài 2"
   ]
  },
  {
   "cell_type": "code",
   "execution_count": 2,
   "id": "fa9cb39f",
   "metadata": {},
   "outputs": [
    {
     "name": "stdout",
     "output_type": "stream",
     "text": [
      "Số điện thoại không đúng định dạng.\n"
     ]
    }
   ],
   "source": [
    "# Code lab 8  bài 2 ở đây\n",
    "import re\n",
    "Hoc_sinh = {}\n",
    "Hoc_sinh['full_name'] = input(\"Nhập họ và tên sinh viên: \").strip()\n",
    "Hoc_sinh['email'] = input(\"Nhập email sinh viên: \").strip()\n",
    "Hoc_sinh['phone'] = input(\"Nhập số điện thoại sinh viên: \").strip()\n",
    "Hoc_sinh['cmnd'] = input(\"Nhập chứng minh nhân dân sinh viên: \").strip()\n",
    "# Kiểm tra email\n",
    "email_pattern = r'^[a-zA-Z0-9._%+-]+@[a-zA-Z0-9.-]+\\.[a-zA-Z]{2,}$'\n",
    "if not re.match(email_pattern, Hoc_sinh['email']):\n",
    "    print(\"Email không đúng định dạng.\")\n",
    "# Kiểm tra số điện thoại\n",
    "phone_pattern = r'^\\d{10,11}$'\n",
    "if not re.match(phone_pattern, Hoc_sinh['phone']):\n",
    "    print(\"Số điện thoại không đúng định dạng.\")\n",
    "# Kiểm tra CMND\n",
    "cmnd_pattern = r'^\\d{9}$|^\\d{12}$'\n",
    "if not re.match(cmnd_pattern, Hoc_sinh['cmnd']):\n",
    "    print(\"Chứng minh nhân dân không đúng định dạng.\")\n",
    "# Nếu tất cả đúng định dạng\n",
    "if (re.match(email_pattern, Hoc_sinh['email']) and\n",
    "    re.match(phone_pattern, Hoc_sinh['phone']) and\n",
    "    re.match(cmnd_pattern, Hoc_sinh['cmnd'])):\n",
    "    print(\"Thông tin sinh viên hợp lệ.\")"
   ]
  },
  {
   "cell_type": "markdown",
   "id": "0f2483fe",
   "metadata": {},
   "source": [
    "## Lab 8 - Bài 3"
   ]
  },
  {
   "cell_type": "code",
   "execution_count": 3,
   "id": "7034990b",
   "metadata": {},
   "outputs": [],
   "source": [
    "# Code lab 8  bài 3 ở đây\n",
    "import random\n",
    "with open(\"random_numbers.txt\", \"w\") as f:\n",
    "    random_numbers = [str(random.randint(0, 100)) for _ in range(1000000)]\n",
    "    f.write(\" \".join(random_numbers))"
   ]
  },
  {
   "cell_type": "markdown",
   "id": "d36ea3d3",
   "metadata": {},
   "source": [
    "## Lab 8 - Bài 4"
   ]
  },
  {
   "cell_type": "code",
   "execution_count": 4,
   "id": "4c707ec1",
   "metadata": {},
   "outputs": [
    {
     "name": "stdout",
     "output_type": "stream",
     "text": [
      "Trung bình: 49.992023\n",
      "Độ lệch chuẩn: 29.164191021139416\n"
     ]
    }
   ],
   "source": [
    "# code lab 8 bài 4 ở đây\n",
    "import statistics\n",
    "with open(\"random_numbers.txt\", \"r\") as f:\n",
    "    data = f.read().strip().split()\n",
    "    numbers = list(map(int, data))\n",
    "    trung_binh = statistics.mean(numbers)\n",
    "    do_lech_chuan = statistics.stdev(numbers)\n",
    "    print(f\"Trung bình: {trung_binh}\")\n",
    "    print(f\"Độ lệch chuẩn: {do_lech_chuan}\")"
   ]
  },
  {
   "cell_type": "markdown",
   "id": "e2b41d4a",
   "metadata": {},
   "source": [
    "## Lab 8 - Bài 5: bài tập làm thêm"
   ]
  },
  {
   "cell_type": "code",
   "execution_count": null,
   "id": "0e0172f7",
   "metadata": {},
   "outputs": [],
   "source": [
    "# code lab 8  bài làm thêm ở đây "
   ]
  }
 ],
 "metadata": {
  "kernelspec": {
   "display_name": "Python 3",
   "language": "python",
   "name": "python3"
  },
  "language_info": {
   "codemirror_mode": {
    "name": "ipython",
    "version": 3
   },
   "file_extension": ".py",
   "mimetype": "text/x-python",
   "name": "python",
   "nbconvert_exporter": "python",
   "pygments_lexer": "ipython3",
   "version": "3.13.7"
  }
 },
 "nbformat": 4,
 "nbformat_minor": 5
}
