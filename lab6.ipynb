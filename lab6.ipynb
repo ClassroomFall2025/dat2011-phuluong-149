{
 "cells": [
  {
   "cell_type": "markdown",
   "id": "fdeff819",
   "metadata": {},
   "source": [
    "# Sinh Viên thực hiện Lab 6 ở Đây"
   ]
  },
  {
   "cell_type": "markdown",
   "id": "acc5d7dc",
   "metadata": {},
   "source": [
    "## Lab 6 - Bài 1"
   ]
  },
  {
   "cell_type": "code",
   "execution_count": 2,
   "id": "001e0507",
   "metadata": {},
   "outputs": [
    {
     "name": "stdout",
     "output_type": "stream",
     "text": [
      "Hình chữ nhật\n",
      "Chiều dài: 9.0, Chiều rộng: 8.0\n",
      "Diện tích: 72.0, Chu vi: 34.0\n",
      "===========================\n",
      "Hình vuông\n",
      "Cạnh: 6.0\n",
      "Diện tích: 36.0, Chu vi: 24.0\n"
     ]
    }
   ],
   "source": [
    "# Code lab 6 bài 1 ở đây\n",
    "from hinh import ChuNhat, HinhVuong\n",
    "cn = ChuNhat(0, 0)\n",
    "cn.nhap_chu_nhat()\n",
    "cn.xuat_thong_tin()\n",
    "print(\"===========================\")\n",
    "vu = HinhVuong(0)\n",
    "vu.nhap_hinh_vuong()\n",
    "vu.xuat_thong_tin()"
   ]
  },
  {
   "cell_type": "markdown",
   "id": "c0835310",
   "metadata": {},
   "source": [
    "## Lab 6 - Bài 2"
   ]
  },
  {
   "cell_type": "code",
   "execution_count": 1,
   "id": "fa9cb39f",
   "metadata": {},
   "outputs": [
    {
     "name": "stdout",
     "output_type": "stream",
     "text": [
      "Tên sinh viên: fdsfs, Ngành học: dfds, Điểm: 6.0, Học lực: Trung bình\n"
     ]
    }
   ],
   "source": [
    "# Code lab 6  bài 2 ở đây\n",
    "from sinhvienpoly import SinhVienPoly\n",
    "sv = SinhVienPoly(\"\", \"\")\n",
    "sv.nhap_thong_tin()\n",
    "sv.xuat_sv()"
   ]
  },
  {
   "cell_type": "markdown",
   "id": "0f2483fe",
   "metadata": {},
   "source": [
    "## Lab 6 - Bài 3"
   ]
  },
  {
   "cell_type": "code",
   "execution_count": 1,
   "id": "7034990b",
   "metadata": {},
   "outputs": [
    {
     "name": "stdout",
     "output_type": "stream",
     "text": [
      "Tên sinh viên: qdfasd, Ngành học: sadasda, Điểm: 7.75, Học lực: Khá\n",
      "Tên sinh viên: đâs, Ngành học: 5, Điểm: 5.0, Học lực: Trung bình\n"
     ]
    }
   ],
   "source": [
    "# Code lab 6  bài 3 ở đây\n",
    "from sinhvienpoly import *\n",
    "sv1 = SinhVienIT(\"\",\"\",0,0,0)\n",
    "sv2 = SinhVienBiz(\"\",\"\",0,0)\n",
    "sv1.nhap_thong_tin()\n",
    "sv1.xuat_sv()\n",
    "sv2.nhap_thong_tin()\n",
    "sv2.xuat_sv()"
   ]
  },
  {
   "cell_type": "markdown",
   "id": "d36ea3d3",
   "metadata": {},
   "source": [
    "## Lab 6 - Bài 4"
   ]
  },
  {
   "cell_type": "code",
   "execution_count": 2,
   "id": "4c707ec1",
   "metadata": {},
   "outputs": [
    {
     "name": "stdout",
     "output_type": "stream",
     "text": [
      "===============================\n",
      "Menu quản lý sinh viên\n",
      "1: Nhập danh sách sinh viên\n",
      "2: Xuất thông tin danh sách sinh viên\n",
      "3: Xuất danh sách sinh viên có học lực giỏi\n",
      "4: Sắp xếp danh sách sinh viên theo điểm\n",
      "5: Kết thúc\n",
      "===============================\n",
      "Nhập thông tin sinh viên mới\n",
      "Đã thêm sinh viên mới.\n",
      "===============================\n",
      "Menu quản lý sinh viên\n",
      "1: Nhập danh sách sinh viên\n",
      "2: Xuất thông tin danh sách sinh viên\n",
      "3: Xuất danh sách sinh viên có học lực giỏi\n",
      "4: Sắp xếp danh sách sinh viên theo điểm\n",
      "5: Kết thúc\n",
      "===============================\n",
      "Danh sách sinh viên\n",
      "Sinh viên thứ 1: Tên sinh viên: Lương Đại Phú, Ngành học: CNTT, Điểm: 9.0, Học lực: Xuất sắc\n",
      "===============================\n",
      "Menu quản lý sinh viên\n",
      "1: Nhập danh sách sinh viên\n",
      "2: Xuất thông tin danh sách sinh viên\n",
      "3: Xuất danh sách sinh viên có học lực giỏi\n",
      "4: Sắp xếp danh sách sinh viên theo điểm\n",
      "5: Kết thúc\n",
      "===============================\n",
      "Không có sinh viên nào đạt học lực giỏi.\n",
      "===============================\n",
      "Menu quản lý sinh viên\n",
      "1: Nhập danh sách sinh viên\n",
      "2: Xuất thông tin danh sách sinh viên\n",
      "3: Xuất danh sách sinh viên có học lực giỏi\n",
      "4: Sắp xếp danh sách sinh viên theo điểm\n",
      "5: Kết thúc\n",
      "===============================\n",
      "Danh sách sinh viên đã sắp xếp.\n",
      "Danh sách sinh viên\n",
      "Sinh viên thứ 1: Tên sinh viên: Lương Đại Phú, Ngành học: CNTT, Điểm: 9.0, Học lực: Xuất sắc\n",
      "===============================\n",
      "Menu quản lý sinh viên\n",
      "1: Nhập danh sách sinh viên\n",
      "2: Xuất thông tin danh sách sinh viên\n",
      "3: Xuất danh sách sinh viên có học lực giỏi\n",
      "4: Sắp xếp danh sách sinh viên theo điểm\n",
      "5: Kết thúc\n",
      "===============================\n",
      "Kết thúc chương trình.\n"
     ]
    }
   ],
   "source": [
    "# code lab 6 bài 4 ở đây\n",
    "from quanlysinhvien import Quanlysinhvien\n",
    "qlsv = Quanlysinhvien()\n",
    "menu_sv= {\n",
    "    \"1\": \"Nhập danh sách sinh viên\",\n",
    "    \"2\": \"Xuất thông tin danh sách sinh viên\",\n",
    "    \"3\": \"Xuất danh sách sinh viên có học lực giỏi\",\n",
    "    \"4\": \"Sắp xếp danh sách sinh viên theo điểm\",\n",
    "    \"5\": \"Kết thúc\"\n",
    "    }\n",
    "def menu():\n",
    "    print(\"===============================\")\n",
    "    print(\"Menu quản lý sinh viên\")\n",
    "    for key, value in menu_sv.items():\n",
    "        print(f\"{key}: {value}\")\n",
    "    print(\"===============================\")\n",
    "    choice = input(\"Chọn chức năng: \")\n",
    "    return choice\n",
    "while True:\n",
    "    choice = menu()\n",
    "    if choice == \"5\":\n",
    "        print(\"Kết thúc chương trình.\")\n",
    "        break\n",
    "    elif choice == \"1\":\n",
    "        qlsv.them_sinh_vien()\n",
    "    elif choice == \"2\":\n",
    "        qlsv.xuat_danh_sach_sinh_vien()\n",
    "    elif choice == \"3\":\n",
    "        qlsv.sinh_vien_gioi()\n",
    "    elif choice == \"4\":\n",
    "        qlsv.sap_xep_theo_diem()\n",
    "    else:\n",
    "        print(\"Hãy lựa chọn chưc năng.\")"
   ]
  },
  {
   "cell_type": "markdown",
   "id": "e2b41d4a",
   "metadata": {},
   "source": [
    "## Lab 6 - Bài 5: bài tập làm thêm"
   ]
  },
  {
   "cell_type": "code",
   "execution_count": null,
   "id": "0e0172f7",
   "metadata": {},
   "outputs": [],
   "source": [
    "# code lab 6  bài làm thêm ở đây "
   ]
  }
 ],
 "metadata": {
  "kernelspec": {
   "display_name": "Python 3",
   "language": "python",
   "name": "python3"
  },
  "language_info": {
   "codemirror_mode": {
    "name": "ipython",
    "version": 3
   },
   "file_extension": ".py",
   "mimetype": "text/x-python",
   "name": "python",
   "nbconvert_exporter": "python",
   "pygments_lexer": "ipython3",
   "version": "3.13.7"
  }
 },
 "nbformat": 4,
 "nbformat_minor": 5
}
