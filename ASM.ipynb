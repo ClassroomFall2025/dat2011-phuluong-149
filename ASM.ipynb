{
 "cells": [
  {
   "cell_type": "code",
   "execution_count": 2,
   "id": "8d6e8de8",
   "metadata": {},
   "outputs": [
    {
     "name": "stdout",
     "output_type": "stream",
     "text": [
      "==============================MENU==============================\n",
      "0. Thoát chương trình\n",
      "1. Nhập danh sách nhân viên\n",
      "2. Xuất danh sách nhân viên\n",
      "3. Tìm nhân viên theo mã\n",
      "4. Xóa nhân viên theo mã\n",
      "5. Cập nhật thông tin nhân viên\n",
      "6. Tìm nhân viên theo khoảng lương\n",
      "7. Sắp xếp nhân viên theo họ tên\n",
      "8. Sắp xếp nhân viên theo thu nhập\n",
      "9. Xuất 5 nhân viên có thu nhập cao nhất\n",
      "================================================================\n",
      "Chức năng: Nhập danh sách nhân viên\n",
      "==============================MENU==============================\n",
      "0. Thoát chương trình\n",
      "1. Nhập danh sách nhân viên\n",
      "2. Xuất danh sách nhân viên\n",
      "3. Tìm nhân viên theo mã\n",
      "4. Xóa nhân viên theo mã\n",
      "5. Cập nhật thông tin nhân viên\n",
      "6. Tìm nhân viên theo khoảng lương\n",
      "7. Sắp xếp nhân viên theo họ tên\n",
      "8. Sắp xếp nhân viên theo thu nhập\n",
      "9. Xuất 5 nhân viên có thu nhập cao nhất\n",
      "================================================================\n",
      "Thoát chương trình.\n"
     ]
    }
   ],
   "source": [
    "import ASM_GD1\n",
    "menu = {\n",
    "    0: \"Thoát chương trình\",\n",
    "    1: \"Nhập danh sách nhân viên\",\n",
    "    2: \"Xuất danh sách nhân viên\",\n",
    "    3: \"Tìm nhân viên theo mã\",\n",
    "    4: \"Xóa nhân viên theo mã\",\n",
    "    5: \"Cập nhật thông tin nhân viên\",\n",
    "    6: \"Tìm nhân viên theo khoảng lương\",\n",
    "    7: \"Sắp xếp nhân viên theo họ tên\",\n",
    "    8: \"Sắp xếp nhân viên theo thu nhập\",\n",
    "    9: \"Xuất 5 nhân viên có thu nhập cao nhất\",\n",
    "}\n",
    "while True:\n",
    "    print(\"===\"*10 + \"MENU\" + \"===\"*10)\n",
    "    for key, value in menu.items():\n",
    "        print(f\"{key}. {value}\")\n",
    "    print(\"===\"*10 + \"====\" + \"===\"*10)\n",
    "    try:\n",
    "            lua_chon = int(input(\"Chọn một lựa chọn chương trình: \"))\n",
    "    except ValueError:\n",
    "            print(\"Vui lòng nhập một số nguyên hợp lệ.\")\n",
    "            continue\n",
    "\n",
    "    match lua_chon:\n",
    "            case 1: ASM_GD1.nhap_nhan_vien()\n",
    "            case 2: ASM_GD1.xuat_danh_sach()\n",
    "            case 3: ASM_GD1.tim_theo_ma()\n",
    "            case 4: ASM_GD1.xoa_theo_ma()\n",
    "            case 5: ASM_GD1.cap_nhat_thong_tin()\n",
    "            case 6: ASM_GD1.tim_theo_luong()\n",
    "            case 7: ASM_GD1.sap_xep_theo_ten()\n",
    "            case 8: ASM_GD1.sap_xep_theo_thu_nhap()\n",
    "            case 9: ASM_GD1.top5_thu_nhap()\n",
    "            case 0:\n",
    "                print(\"Thoát chương trình.\")\n",
    "                break\n",
    "            case _:\n",
    "                print(\"Chọn sai, vui lòng nhập lại.\")\n",
    "\n",
    "\n"
   ]
  }
 ],
 "metadata": {
  "kernelspec": {
   "display_name": "Python 3",
   "language": "python",
   "name": "python3"
  },
  "language_info": {
   "codemirror_mode": {
    "name": "ipython",
    "version": 3
   },
   "file_extension": ".py",
   "mimetype": "text/x-python",
   "name": "python",
   "nbconvert_exporter": "python",
   "pygments_lexer": "ipython3",
   "version": "3.13.7"
  }
 },
 "nbformat": 4,
 "nbformat_minor": 5
}
