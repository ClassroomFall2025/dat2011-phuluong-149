{
 "cells": [
  {
   "cell_type": "markdown",
   "id": "fdeff819",
   "metadata": {},
   "source": [
    "# Sinh Viên thực hiện Lab 7 ở Đây"
   ]
  },
  {
   "cell_type": "markdown",
   "id": "acc5d7dc",
   "metadata": {},
   "source": [
    "## Lab 7 - Bài 1"
   ]
  },
  {
   "cell_type": "code",
   "execution_count": 7,
   "id": "001e0507",
   "metadata": {},
   "outputs": [
    {
     "name": "stdout",
     "output_type": "stream",
     "text": [
      "Tự nguyện\n",
      "Trương Quốc Khánh\n",
      "Nếu là chim, tôi sẽ là loài bồ câu trắng\n",
      "Nếu là hoa, tôi sẽ là một đóa hướng dương\n",
      "Nếu là mây, tôi sẽ là một vầng mây ấm\n",
      "Là người, tôi sẽ chết cho quê hương.\n",
      "\n",
      "Là chim, tôi sẽ cất cao đôi cánh mềm\n",
      "Từ nam ra ngoài bắc báo tin nối liền\n",
      "Là hoa, tôi nở tình yêu ban sớm\n",
      "Cùng muôn trái tim ngất ngây hoà bình.\n",
      "\n",
      "Là mây, theo làn gió tung bay khắp trời\n",
      "Nghìn xưa oai hùng đó tôi xin tiếp lời\n",
      "Là người, xin một lần khi nằm xuống\n",
      "Nhìn anh em đứng lên phất cao ngọn cờ.\n",
      "===================================\n",
      "Tự nguyện\n",
      "\n",
      "===================================\n",
      "Trương Quốc Khánh\n",
      "\n"
     ]
    }
   ],
   "source": [
    "# Code lab 7 bài 1 ở đây\n",
    "file1 = open(\"DAT2011 - Lab 7 - Resource.txt\", \"r\", encoding=\"utf-8\")\n",
    "file2 = open(\"DAT2011 - Lab 7 - Resource.txt\", \"r\", encoding=\"utf-8\")\n",
    "noidung = file1.read()\n",
    "ten_bai_tho = file2.readline()\n",
    "ten_tac_gia = file2.readline()\n",
    "print(noidung)\n",
    "print(\"===================================\")\n",
    "file1.close()\n",
    "print(ten_bai_tho)\n",
    "print(\"===================================\")\n",
    "print(ten_tac_gia)\n",
    "file2.close()"
   ]
  },
  {
   "cell_type": "markdown",
   "id": "c0835310",
   "metadata": {},
   "source": [
    "## Lab 7 - Bài 2"
   ]
  },
  {
   "cell_type": "code",
   "execution_count": 6,
   "id": "fa9cb39f",
   "metadata": {},
   "outputs": [
    {
     "name": "stdout",
     "output_type": "stream",
     "text": [
      "Đã tạo và ghi nội dung vào file 'Lab7-Exercise2.txt'.\n"
     ]
    }
   ],
   "source": [
    "# Code lab 7  bài 2 ở đây\n",
    "ten_file = \"Lab7-Exercise2.txt\"\n",
    "noi_dung_ghi = \"\"\"...\n",
    "Nếu một mai tôi có bay lên trời\n",
    "Thì người ơi tôi đã sống rất thảnh thơi\n",
    "Nếu một mai tôi có đi qua đời\n",
    "Thì người ơi tôi đã sống rất tuyệt vời\n",
    "...\"\"\"\n",
    "file = open(ten_file, 'w', encoding='utf-8') \n",
    "file.write(noi_dung_ghi)\n",
    "file.close() \n",
    "print(f\"Đã tạo và ghi nội dung vào file '{ten_file}'.\")\n"
   ]
  },
  {
   "cell_type": "markdown",
   "id": "0f2483fe",
   "metadata": {},
   "source": [
    "## Lab 7 - Bài 3"
   ]
  },
  {
   "cell_type": "code",
   "execution_count": 5,
   "id": "7034990b",
   "metadata": {},
   "outputs": [
    {
     "name": "stdout",
     "output_type": "stream",
     "text": [
      "Nhập thông tin của 5 bài\n",
      "\n",
      "Nhập thông tin cho Bài thơ thứ 1:\n",
      "\n",
      "Nhập thông tin cho Bài thơ thứ 2:\n",
      "\n",
      "Nhập thông tin cho Bài thơ thứ 3:\n",
      "\n",
      "Nhập thông tin cho Bài thơ thứ 4:\n",
      "\n",
      "Nhập thông tin cho Bài thơ thứ 5:\n",
      "Đã nhập thông tin của 5 bài thơ và lưu vào file 'bai_tho.csv' theo định dạng CSV.\n"
     ]
    }
   ],
   "source": [
    "# Code lab 7  bài 3 ở đây\n",
    "import csv\n",
    "file_name = \"bai_tho.csv\"\n",
    "so_luong_bai_tho = 5\n",
    "danh_sach_bai_tho = []\n",
    "print(f\"Nhập thông tin của {so_luong_bai_tho} bài\")\n",
    "for i in range(so_luong_bai_tho):\n",
    "    print(f\"\\nNhập thông tin cho Bài thơ thứ {i + 1}:\")\n",
    "    tieu_de = input(\"Tiêu đề: \")\n",
    "    tac_gia = input(\"Tác giả: \")\n",
    "    nam_sang_tac = float(input(\"Năm sáng tác: \"))\n",
    "    bai_tho = {\n",
    "        \"TieuDe\": tieu_de,\n",
    "        \"TacGia\": tac_gia,\n",
    "        \"NamSangTac\": nam_sang_tac\n",
    "    }\n",
    "    danh_sach_bai_tho.append(bai_tho)\n",
    "try:\n",
    "    fieldnames = [\"TieuDe\", \"TacGia\", \"NamSangTac\"]\n",
    "    with open(file_name, 'w', encoding='utf-8', newline='') as csvfile:\n",
    "        writer = csv.DictWriter(csvfile, fieldnames=fieldnames)\n",
    "        writer.writeheader()\n",
    "        writer.writerows(danh_sach_bai_tho)\n",
    "    print(f\"Đã nhập thông tin của {so_luong_bai_tho} bài thơ và lưu vào file '{file_name}' theo định dạng CSV.\")\n",
    "except IOError:\n",
    "    print(f\"Không thể ghi dữ liệu vào file '{file_name}'.\")"
   ]
  },
  {
   "cell_type": "markdown",
   "id": "d36ea3d3",
   "metadata": {},
   "source": [
    "## Lab 7 - Bài 4"
   ]
  },
  {
   "cell_type": "code",
   "execution_count": 4,
   "id": "4c707ec1",
   "metadata": {},
   "outputs": [
    {
     "name": "stdout",
     "output_type": "stream",
     "text": [
      "['Tự nguyện\\n', 'Trương Quốc Khánh\\n', 'Nếu là chim, tôi sẽ là loài bồ câu trắng\\n', 'Nếu là hoa, tôi sẽ là một đóa hướng dương\\n', 'Nếu là mây, tôi sẽ là một vầng mây ấm\\n', 'Là người, tôi sẽ chết cho quê hương.\\n', '\\n', 'Là chim, tôi sẽ cất cao đôi cánh mềm\\n', 'Từ nam ra ngoài bắc báo tin nối liền\\n', 'Là hoa, tôi nở tình yêu ban sớm\\n', 'Cùng muôn trái tim ngất ngây hoà bình.\\n', '\\n', 'Là mây, theo làn gió tung bay khắp trời\\n', 'Nghìn xưa oai hùng đó tôi xin tiếp lời\\n', 'Là người, xin một lần khi nằm xuống\\n', 'Nhìn anh em đứng lên phất cao ngọn cờ.']\n",
      "['Nếu là chim, tôi sẽ là loài bồ câu trắng Nếu là hoa, tôi sẽ là một đóa hướng dương Nếu là mây, tôi sẽ là một vầng mây ấm Là người, tôi sẽ chết cho quê hương. ', 'Là chim, tôi sẽ cất cao đôi cánh mềm Từ nam ra ngoài bắc báo tin nối liền Là hoa, tôi nở tình yêu ban sớm Cùng muôn trái tim ngất ngây hoà bình. ', 'Là mây, theo làn gió tung bay khắp trời Nghìn xưa oai hùng đó tôi xin tiếp lời Là người, xin một lần khi nằm xuống Nhìn anh em đứng lên phất cao ngọn cờ.']\n",
      "Đã thực thi và ghi file resource.xml.\n"
     ]
    }
   ],
   "source": [
    "# code lab 7 bài 4 ở đây\n",
    "with open(\"DAT2011 - Lab 7 - Resource.txt\", \"r\", encoding=\"utf-8\") as file:\n",
    "    noi_dung = file.readlines()\n",
    "    print(noi_dung)\n",
    "    noi_dung_moi = []\n",
    "    kho_tho = \"\"\n",
    "    for line in noi_dung[2:]:\n",
    "        if line == \"\\n\":\n",
    "            noi_dung_moi.append(kho_tho)\n",
    "            kho_tho = \"\"\n",
    "        else:\n",
    "            kho_tho += line.strip() + \" \"\n",
    "    if kho_tho.strip():\n",
    "        noi_dung_moi.append(kho_tho.strip())\n",
    "    print(noi_dung_moi)    \n",
    "with open(\"DAT2011 - Lab 7 - Resource.xml\", \"w\", encoding=\"utf-8\") as file1:\n",
    "    file1.write('<?xml version=\"1.0\" encoding=\"utf-8\"?>\\n')\n",
    "    file1.write('<songs>\\n')\n",
    "    file1.write('\\t<song>\\n')\n",
    "    file1.write(f'\\t\\t<name>{noi_dung[0].strip()}</name>\\n')\n",
    "    file1.write(f'\\t\\t<author>{noi_dung[1].strip()}</author>\\n')    \n",
    "    for section_text in noi_dung_moi:\n",
    "        file1.write(f'\\t\\t<section>{section_text}</section>\\n')       \n",
    "    file1.write('\\t</song>\\n')\n",
    "    file1.write('</songs>\\n')\n",
    "print(\"Đã thực thi và ghi file resource.xml.\")"
   ]
  },
  {
   "cell_type": "markdown",
   "id": "e2b41d4a",
   "metadata": {},
   "source": [
    "## Lab 7 - Bài 5: bài tập làm thêm"
   ]
  },
  {
   "cell_type": "code",
   "execution_count": null,
   "id": "0e0172f7",
   "metadata": {},
   "outputs": [],
   "source": [
    "# code lab 7  bài làm thêm ở đây "
   ]
  }
 ],
 "metadata": {
  "kernelspec": {
   "display_name": "Python 3",
   "language": "python",
   "name": "python3"
  },
  "language_info": {
   "codemirror_mode": {
    "name": "ipython",
    "version": 3
   },
   "file_extension": ".py",
   "mimetype": "text/x-python",
   "name": "python",
   "nbconvert_exporter": "python",
   "pygments_lexer": "ipython3",
   "version": "3.13.7"
  }
 },
 "nbformat": 4,
 "nbformat_minor": 5
}
