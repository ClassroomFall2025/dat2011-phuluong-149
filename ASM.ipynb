{
 "cells": [
  {
   "cell_type": "code",
   "execution_count": null,
   "id": "8d6e8de8",
   "metadata": {},
   "outputs": [
    {
     "name": "stdout",
     "output_type": "stream",
     "text": [
      "==============================MENU==============================\n",
      "0. Thoát chương trình\n",
      "1. Nhập danh sách nhân viên\n",
      "2. Xuất danh sách nhân viên\n",
      "3. Tìm nhân viên theo mã\n",
      "4. Xóa nhân viên theo mã\n",
      "5. Cập nhật thông tin nhân viên\n",
      "6. Tìm nhân viên theo khoảng lương\n",
      "7. Sắp xếp nhân viên theo họ tên\n",
      "8. Sắp xếp nhân viên theo thu nhập\n",
      "9. Xuất 5 nhân viên có thu nhập cao nhất\n",
      "================================================================\n"
     ]
    },
    {
     "name": "stdout",
     "output_type": "stream",
     "text": [
      "Chức năng: Xuất danh sách nhân viên\n",
      "==============================MENU==============================\n",
      "0. Thoát chương trình\n",
      "1. Nhập danh sách nhân viên\n",
      "2. Xuất danh sách nhân viên\n",
      "3. Tìm nhân viên theo mã\n",
      "4. Xóa nhân viên theo mã\n",
      "5. Cập nhật thông tin nhân viên\n",
      "6. Tìm nhân viên theo khoảng lương\n",
      "7. Sắp xếp nhân viên theo họ tên\n",
      "8. Sắp xếp nhân viên theo thu nhập\n",
      "9. Xuất 5 nhân viên có thu nhập cao nhất\n",
      "================================================================\n",
      "Chức năng: Tìm nhân viên theo mã\n",
      "==============================MENU==============================\n",
      "0. Thoát chương trình\n",
      "1. Nhập danh sách nhân viên\n",
      "2. Xuất danh sách nhân viên\n",
      "3. Tìm nhân viên theo mã\n",
      "4. Xóa nhân viên theo mã\n",
      "5. Cập nhật thông tin nhân viên\n",
      "6. Tìm nhân viên theo khoảng lương\n",
      "7. Sắp xếp nhân viên theo họ tên\n",
      "8. Sắp xếp nhân viên theo thu nhập\n",
      "9. Xuất 5 nhân viên có thu nhập cao nhất\n",
      "================================================================\n",
      "Chọn sai, vui lòng nhập lại.\n",
      "==============================MENU==============================\n",
      "0. Thoát chương trình\n",
      "1. Nhập danh sách nhân viên\n",
      "2. Xuất danh sách nhân viên\n",
      "3. Tìm nhân viên theo mã\n",
      "4. Xóa nhân viên theo mã\n",
      "5. Cập nhật thông tin nhân viên\n",
      "6. Tìm nhân viên theo khoảng lương\n",
      "7. Sắp xếp nhân viên theo họ tên\n",
      "8. Sắp xếp nhân viên theo thu nhập\n",
      "9. Xuất 5 nhân viên có thu nhập cao nhất\n",
      "================================================================\n"
     ]
    },
    {
     "ename": "KeyboardInterrupt",
     "evalue": "Interrupted by user",
     "output_type": "error",
     "traceback": [
      "\u001b[31m---------------------------------------------------------------------------\u001b[39m",
      "\u001b[31mKeyboardInterrupt\u001b[39m                         Traceback (most recent call last)",
      "\u001b[36mCell\u001b[39m\u001b[36m \u001b[39m\u001b[32mIn[1]\u001b[39m\u001b[32m, line 20\u001b[39m\n\u001b[32m     18\u001b[39m \u001b[38;5;28mprint\u001b[39m(\u001b[33m\"\u001b[39m\u001b[33m===\u001b[39m\u001b[33m\"\u001b[39m*\u001b[32m10\u001b[39m + \u001b[33m\"\u001b[39m\u001b[33m====\u001b[39m\u001b[33m\"\u001b[39m + \u001b[33m\"\u001b[39m\u001b[33m===\u001b[39m\u001b[33m\"\u001b[39m*\u001b[32m10\u001b[39m)\n\u001b[32m     19\u001b[39m \u001b[38;5;28;01mtry\u001b[39;00m:\n\u001b[32m---> \u001b[39m\u001b[32m20\u001b[39m         lua_chon = \u001b[38;5;28mint\u001b[39m(\u001b[38;5;28;43minput\u001b[39;49m\u001b[43m(\u001b[49m\u001b[33;43m\"\u001b[39;49m\u001b[33;43mChọn một lựa chọn chương trình: \u001b[39;49m\u001b[33;43m\"\u001b[39;49m\u001b[43m)\u001b[49m)\n\u001b[32m     21\u001b[39m \u001b[38;5;28;01mexcept\u001b[39;00m \u001b[38;5;167;01mValueError\u001b[39;00m:\n\u001b[32m     22\u001b[39m         \u001b[38;5;28mprint\u001b[39m(\u001b[33m\"\u001b[39m\u001b[33mVui lòng nhập một số nguyên hợp lệ.\u001b[39m\u001b[33m\"\u001b[39m)\n",
      "\u001b[36mFile \u001b[39m\u001b[32m~\\AppData\\Roaming\\Python\\Python313\\site-packages\\ipykernel\\kernelbase.py:1275\u001b[39m, in \u001b[36mKernel.raw_input\u001b[39m\u001b[34m(self, prompt)\u001b[39m\n\u001b[32m   1273\u001b[39m     msg = \u001b[33m\"\u001b[39m\u001b[33mraw_input was called, but this frontend does not support input requests.\u001b[39m\u001b[33m\"\u001b[39m\n\u001b[32m   1274\u001b[39m     \u001b[38;5;28;01mraise\u001b[39;00m StdinNotImplementedError(msg)\n\u001b[32m-> \u001b[39m\u001b[32m1275\u001b[39m \u001b[38;5;28;01mreturn\u001b[39;00m \u001b[38;5;28;43mself\u001b[39;49m\u001b[43m.\u001b[49m\u001b[43m_input_request\u001b[49m\u001b[43m(\u001b[49m\n\u001b[32m   1276\u001b[39m \u001b[43m    \u001b[49m\u001b[38;5;28;43mstr\u001b[39;49m\u001b[43m(\u001b[49m\u001b[43mprompt\u001b[49m\u001b[43m)\u001b[49m\u001b[43m,\u001b[49m\n\u001b[32m   1277\u001b[39m \u001b[43m    \u001b[49m\u001b[38;5;28;43mself\u001b[39;49m\u001b[43m.\u001b[49m\u001b[43m_parent_ident\u001b[49m\u001b[43m[\u001b[49m\u001b[33;43m\"\u001b[39;49m\u001b[33;43mshell\u001b[39;49m\u001b[33;43m\"\u001b[39;49m\u001b[43m]\u001b[49m\u001b[43m,\u001b[49m\n\u001b[32m   1278\u001b[39m \u001b[43m    \u001b[49m\u001b[38;5;28;43mself\u001b[39;49m\u001b[43m.\u001b[49m\u001b[43mget_parent\u001b[49m\u001b[43m(\u001b[49m\u001b[33;43m\"\u001b[39;49m\u001b[33;43mshell\u001b[39;49m\u001b[33;43m\"\u001b[39;49m\u001b[43m)\u001b[49m\u001b[43m,\u001b[49m\n\u001b[32m   1279\u001b[39m \u001b[43m    \u001b[49m\u001b[43mpassword\u001b[49m\u001b[43m=\u001b[49m\u001b[38;5;28;43;01mFalse\u001b[39;49;00m\u001b[43m,\u001b[49m\n\u001b[32m   1280\u001b[39m \u001b[43m\u001b[49m\u001b[43m)\u001b[49m\n",
      "\u001b[36mFile \u001b[39m\u001b[32m~\\AppData\\Roaming\\Python\\Python313\\site-packages\\ipykernel\\kernelbase.py:1320\u001b[39m, in \u001b[36mKernel._input_request\u001b[39m\u001b[34m(self, prompt, ident, parent, password)\u001b[39m\n\u001b[32m   1317\u001b[39m \u001b[38;5;28;01mexcept\u001b[39;00m \u001b[38;5;167;01mKeyboardInterrupt\u001b[39;00m:\n\u001b[32m   1318\u001b[39m     \u001b[38;5;66;03m# re-raise KeyboardInterrupt, to truncate traceback\u001b[39;00m\n\u001b[32m   1319\u001b[39m     msg = \u001b[33m\"\u001b[39m\u001b[33mInterrupted by user\u001b[39m\u001b[33m\"\u001b[39m\n\u001b[32m-> \u001b[39m\u001b[32m1320\u001b[39m     \u001b[38;5;28;01mraise\u001b[39;00m \u001b[38;5;167;01mKeyboardInterrupt\u001b[39;00m(msg) \u001b[38;5;28;01mfrom\u001b[39;00m\u001b[38;5;250m \u001b[39m\u001b[38;5;28;01mNone\u001b[39;00m\n\u001b[32m   1321\u001b[39m \u001b[38;5;28;01mexcept\u001b[39;00m \u001b[38;5;167;01mException\u001b[39;00m:\n\u001b[32m   1322\u001b[39m     \u001b[38;5;28mself\u001b[39m.log.warning(\u001b[33m\"\u001b[39m\u001b[33mInvalid Message:\u001b[39m\u001b[33m\"\u001b[39m, exc_info=\u001b[38;5;28;01mTrue\u001b[39;00m)\n",
      "\u001b[31mKeyboardInterrupt\u001b[39m: Interrupted by user"
     ]
    }
   ],
   "source": [
    "import ASM_GD1 as f\n",
    "menu = {\n",
    "    0: \"Thoát chương trình\",\n",
    "    1: \"Nhập danh sách nhân viên\",\n",
    "    2: \"Xuất danh sách nhân viên\",\n",
    "    3: \"Tìm nhân viên theo mã\",\n",
    "    4: \"Xóa nhân viên theo mã\",\n",
    "    5: \"Cập nhật thông tin nhân viên\",\n",
    "    6: \"Tìm nhân viên theo khoảng lương\",\n",
    "    7: \"Sắp xếp nhân viên theo họ tên\",\n",
    "    8: \"Sắp xếp nhân viên theo thu nhập\",\n",
    "    9: \"Xuất 5 nhân viên có thu nhập cao nhất\",\n",
    "}\n",
    "while True:\n",
    "    print(\"===\"*10 + \"MENU\" + \"===\"*10)\n",
    "    for key, value in menu.items():\n",
    "        print(f\"{key}. {value}\")\n",
    "    print(\"===\"*10 + \"====\" + \"===\"*10)\n",
    "    try:\n",
    "            lua_chon = int(input(\"Chọn một lựa chọn chương trình: \"))\n",
    "    except ValueError:\n",
    "            print(\"Vui lòng nhập một số nguyên hợp lệ.\")\n",
    "            continue\n",
    "\n",
    "    match lua_chon:\n",
    "            case 1: f.nhap_nhan_vien()\n",
    "            case 2: f.xuat_danh_sach()\n",
    "            case 3: f.tim_theo_ma()\n",
    "            case 4: f.xoa_theo_ma()\n",
    "            case 5: f.cap_nhat_thong_tin()\n",
    "            case 6: f.tim_theo_luong()\n",
    "            case 7: f.sap_xep_theo_ten()\n",
    "            case 8: f.sap_xep_theo_thu_nhap()\n",
    "            case 9: f.top5_thu_nhap()\n",
    "            case 0:\n",
    "                print(\"Thoát chương trình.\")\n",
    "                break\n",
    "            case _:\n",
    "                print(\"Chọn sai, vui lòng nhập lại.\")\n",
    "\n",
    "\n"
   ]
  }
 ],
 "metadata": {
  "kernelspec": {
   "display_name": "Python 3",
   "language": "python",
   "name": "python3"
  },
  "language_info": {
   "codemirror_mode": {
    "name": "ipython",
    "version": 3
   },
   "file_extension": ".py",
   "mimetype": "text/x-python",
   "name": "python",
   "nbconvert_exporter": "python",
   "pygments_lexer": "ipython3",
   "version": "3.13.7"
  }
 },
 "nbformat": 4,
 "nbformat_minor": 5
}
