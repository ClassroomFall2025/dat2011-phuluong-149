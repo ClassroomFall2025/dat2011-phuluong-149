{
 "cells": [
  {
   "cell_type": "markdown",
   "id": "fdeff819",
   "metadata": {},
   "source": [
    "# Sinh Viên thực hiện Lab 4 ở Đây"
   ]
  },
  {
   "cell_type": "markdown",
   "id": "acc5d7dc",
   "metadata": {},
   "source": [
    "## Lab 4 - Bài 1"
   ]
  },
  {
   "cell_type": "code",
   "execution_count": null,
   "id": "001e0507",
   "metadata": {},
   "outputs": [],
   "source": [
    "# Code lab 4 bài 1 ở đây"
   ]
  },
  {
   "cell_type": "markdown",
   "id": "c0835310",
   "metadata": {},
   "source": [
    "## Lab 4 - Bài 2"
   ]
  },
  {
   "cell_type": "code",
   "execution_count": null,
   "id": "fa9cb39f",
   "metadata": {},
   "outputs": [],
   "source": [
    "# Code lab 4  bài 2 ở đây"
   ]
  },
  {
   "cell_type": "markdown",
   "id": "0f2483fe",
   "metadata": {},
   "source": [
    "## Lab 4 - Bài 3"
   ]
  },
  {
   "cell_type": "code",
   "execution_count": 3,
   "id": "7034990b",
   "metadata": {},
   "outputs": [
    {
     "name": "stdout",
     "output_type": "stream",
     "text": [
      "Danh sách hiện tại: [5]\n",
      "Danh sách hiện tại: [5, 8]\n",
      "Danh sách hiện tại: [5, 8, 36]\n",
      "Danh sách hiện tại: [5, 8, 36, 45]\n",
      "Danh sách hiện tại: [5, 8, 36, 45, 12]\n",
      "Danh sách hiện tại: [5, 8, 36, 45, 12, 145]\n",
      "Danh sách hiện tại: [5, 8, 36, 45, 12, 145, 149]\n",
      "Danh sách hiện tại: [5, 8, 36, 45, 12, 145, 149, 142]\n",
      "Danh sách hiện tại: [5, 8, 36, 45, 12, 145, 149, 142, 658]\n",
      "Các số chia hết cho 2: [8, 36, 12, 142, 658]\n"
     ]
    }
   ],
   "source": [
    "# Code lab 4  bài 3 ở đây\n",
    "my_list = []\n",
    "while True:\n",
    "    nhap_so = input(\"Nhập số nguyên dương (hoặc 's' để kết thúc): \")\n",
    "    if nhap_so.lower() == 's':\n",
    "        break\n",
    "    try:\n",
    "        so = int(nhap_so)\n",
    "        if so < 0:\n",
    "            print(\"Vui lòng chỉ nhập số nguyên dương.\")\n",
    "            continue\n",
    "        my_list.append(so)\n",
    "        print(\"Danh sách hiện tại:\", my_list)\n",
    "    except ValueError:\n",
    "        print(\"Đầu vào không hợp lệ. Vui lòng nhập số nguyên dương hoặc 's' để thoát chương trình.\")\n",
    "new_list = list(filter(lambda x: (x % 2 == 0) , my_list))\n",
    "print(\"Các số chia hết cho 2:\", new_list)\n"
   ]
  },
  {
   "cell_type": "markdown",
   "id": "d36ea3d3",
   "metadata": {},
   "source": [
    "## Lab 4 - Bài 4"
   ]
  },
  {
   "cell_type": "code",
   "execution_count": 1,
   "id": "4c707ec1",
   "metadata": {},
   "outputs": [
    {
     "name": "stdout",
     "output_type": "stream",
     "text": [
      "==============================MENU==============================\n",
      "1. Tính tiền nước sinh hoạt\n",
      "2. Tính nguyên liệu làm bánh\n",
      "3. Thoát\n",
      "================================================================\n",
      "Tính nguyên liệu làm bánh\n",
      "Nguyên liệu cần chuẩn bị để làm 5 cái bánh:\n",
      "- đường: 0.75\n",
      "- đậu: 0.45000000000000007\n",
      "==============================MENU==============================\n",
      "1. Tính tiền nước sinh hoạt\n",
      "2. Tính nguyên liệu làm bánh\n",
      "3. Thoát\n",
      "================================================================\n",
      "Thoát chương trình\n"
     ]
    }
   ],
   "source": [
    "# code lab 4 bài 4 ở đây\n",
    "# import lab4\n",
    "from lab4 import tinh_tien_nuoc, tinh_nguyen_lieu\n",
    "menu = {\n",
    "    \"1\": \"Tính tiền nước sinh hoạt\",\n",
    "    \"2\": \"Tính nguyên liệu làm bánh\",\n",
    "    \"3\": \"Thoát\",\n",
    "}\n",
    "while True:\n",
    "    print(\"===\"*10 + \"MENU\" + \"===\"*10)\n",
    "    for key, value in menu.items():\n",
    "        print(f\"{key}. {value}\")\n",
    "    print(\"===\"*10 + \"====\" + \"===\"*10)\n",
    "    lua_chon = input(\"Mời bạn chọn chức năng: \")\n",
    "    if lua_chon == \"3\":\n",
    "        print(\"Thoát chương trình\")\n",
    "        break\n",
    "    elif lua_chon == \"1\":\n",
    "        print(\"Tính tiền nước sinh hoạt\")\n",
    "        so_nuoc = float(input(\"Nhập số nước đã sử dụng (m3): \"))\n",
    "        print(f\"Tổng tiền nước phải trả là: {tinh_tien_nuoc(so_nuoc)} VND\")\n",
    "    elif lua_chon == \"2\":\n",
    "        print(\"Tính nguyên liệu làm bánh\")\n",
    "        so_banh = int(input(\"Nhập số bánh cần làm: \"))\n",
    "        nguyen_lieu = tinh_nguyen_lieu(so_banh, so_banh, so_banh)\n",
    "        print(f\"Nguyên liệu cần chuẩn bị để làm {so_banh} cái bánh:\")\n",
    "        for item, quantity in nguyen_lieu.items():\n",
    "            print(f\"- {item}: {quantity}\")\n",
    "    else:\n",
    "        print(\"Lựa chọn không hợp lệ, vui lòng thử lại.\")"
   ]
  },
  {
   "cell_type": "markdown",
   "id": "e2b41d4a",
   "metadata": {},
   "source": [
    "## Lab 4 - Bài 5: bài tập làm thêm"
   ]
  },
  {
   "cell_type": "code",
   "execution_count": null,
   "id": "0e0172f7",
   "metadata": {},
   "outputs": [],
   "source": [
    "# code lab 4  bài làm thêm ở đây "
   ]
  }
 ],
 "metadata": {
  "kernelspec": {
   "display_name": "Python 3",
   "language": "python",
   "name": "python3"
  },
  "language_info": {
   "codemirror_mode": {
    "name": "ipython",
    "version": 3
   },
   "file_extension": ".py",
   "mimetype": "text/x-python",
   "name": "python",
   "nbconvert_exporter": "python",
   "pygments_lexer": "ipython3",
   "version": "3.13.7"
  }
 },
 "nbformat": 4,
 "nbformat_minor": 5
}
