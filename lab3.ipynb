{
 "cells": [
  {
   "cell_type": "markdown",
   "id": "fdeff819",
   "metadata": {},
   "source": [
    "# Sinh Viên thực hiện Lab 3 ở Đây"
   ]
  },
  {
   "cell_type": "markdown",
   "id": "acc5d7dc",
   "metadata": {},
   "source": [
    "## Lab 3 - Bài 1"
   ]
  },
  {
   "cell_type": "code",
   "execution_count": 13,
   "id": "001e0507",
   "metadata": {},
   "outputs": [
    {
     "name": "stdout",
     "output_type": "stream",
     "text": [
      "Danh sách hiện tại: [6]\n",
      "Danh sách hiện tại: [6, 45]\n",
      "Danh sách hiện tại: [6, 45, 21]\n",
      "Danh sách hiện tại: [6, 45, 21, 63]\n",
      "Danh sách hiện tại: [6, 45, 21, 63, 72]\n",
      "Danh sách hiện tại: [6, 45, 21, 63, 72, 54]\n",
      "Đã thoát chương trình\n",
      "Kết quả:  43.5\n"
     ]
    }
   ],
   "source": [
    "# Code lab 3 bài 1 ở đây\n",
    "day_so = []\n",
    "tong = 0\n",
    "dem_so = 0\n",
    "#nhập dãy số\n",
    "\n",
    "while True:\n",
    "    so = input(\"Nhập số (hoặc 'q' để thoát): \")\n",
    "    # if so.lower() == 'q':\n",
    "    #     print(\"Thoát chương trình\")\n",
    "    #     break\n",
    "    # else:\n",
    "    #     phan_tu = int(so)\n",
    "    #     day_so.append(phan_tu)\n",
    "    #     print(\"Danh sách hiện tại:\", day_so)\n",
    "    # so = input(\"Nhập số: \")\n",
    "#kiểm tra nhập\n",
    "\n",
    "    try:\n",
    "        phan_tu = int(so)\n",
    "        day_so.append(phan_tu)\n",
    "        print(\"Danh sách hiện tại:\", day_so)\n",
    "    except ValueError:\n",
    "        if so.lower() == 'q':\n",
    "            print(\"Đã thoát chương trình\")\n",
    "            break\n",
    "        print(\"Vui lòng nhập một số hợp lệ hoặc 'q' để thoát.\")\n",
    "#sắp xếp dãy số\n",
    "\n",
    "# day_so.sort()\n",
    "# print(\"Dãy số sau khi sắp xếp:\", day_so)\n",
    "# print(\"Giá trị nhỏ nhất:\", day_so[0])\n",
    "# print(\"Giá trị lớn nhất:\", day_so[-1])\n",
    "\n",
    "#tính tổng và đếm số các phần tử chia hết cho 3\n",
    "for phan_tu in day_so:\n",
    "    if phan_tu % 3 == 0:\n",
    "     tong += phan_tu\n",
    "     dem_so += 1\n",
    "if dem_so != 0:\n",
    "    print(\"Kết quả: \", tong/dem_so)\n",
    "else:\n",
    "    print(\"Không có số nào chia hết cho 3 trong dãy số.\")\n"
   ]
  },
  {
   "cell_type": "markdown",
   "id": "c0835310",
   "metadata": {},
   "source": [
    "## Lab 3 - Bài 2"
   ]
  },
  {
   "cell_type": "code",
   "execution_count": null,
   "id": "fa9cb39f",
   "metadata": {},
   "outputs": [],
   "source": [
    "# Code lab 3  bài 2 ở đây"
   ]
  },
  {
   "cell_type": "markdown",
   "id": "0f2483fe",
   "metadata": {},
   "source": [
    "## Lab 3 - Bài 3"
   ]
  },
  {
   "cell_type": "code",
   "execution_count": null,
   "id": "7034990b",
   "metadata": {},
   "outputs": [],
   "source": [
    "# Code lab 3  bài 3 ở đây"
   ]
  },
  {
   "cell_type": "markdown",
   "id": "d36ea3d3",
   "metadata": {},
   "source": [
    "## Lab 3 - Bài 4"
   ]
  },
  {
   "cell_type": "code",
   "execution_count": null,
   "id": "4c707ec1",
   "metadata": {},
   "outputs": [],
   "source": [
    "# code lab 3 bài 4 ở đây"
   ]
  },
  {
   "cell_type": "markdown",
   "id": "e2b41d4a",
   "metadata": {},
   "source": [
    "## Lab 3 - Bài 5: bài tập làm thêm"
   ]
  },
  {
   "cell_type": "code",
   "execution_count": null,
   "id": "0e0172f7",
   "metadata": {},
   "outputs": [],
   "source": [
    "# code lab 3  bài làm thêm ở đây "
   ]
  }
 ],
 "metadata": {
  "kernelspec": {
   "display_name": "Python 3",
   "language": "python",
   "name": "python3"
  },
  "language_info": {
   "codemirror_mode": {
    "name": "ipython",
    "version": 3
   },
   "file_extension": ".py",
   "mimetype": "text/x-python",
   "name": "python",
   "nbconvert_exporter": "python",
   "pygments_lexer": "ipython3",
   "version": "3.13.7"
  }
 },
 "nbformat": 4,
 "nbformat_minor": 5
}
