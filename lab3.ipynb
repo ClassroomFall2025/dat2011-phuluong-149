{
 "cells": [
  {
   "cell_type": "markdown",
   "id": "fdeff819",
   "metadata": {},
   "source": [
    "# Sinh Viên thực hiện Lab 3 ở Đây"
   ]
  },
  {
   "cell_type": "markdown",
   "id": "acc5d7dc",
   "metadata": {},
   "source": [
    "## Lab 3 - Bài 1"
   ]
  },
  {
   "cell_type": "code",
   "execution_count": 4,
   "id": "001e0507",
   "metadata": {},
   "outputs": [
    {
     "name": "stdout",
     "output_type": "stream",
     "text": [
      "Danh sách hiện tại: [8]\n",
      "Danh sách hiện tại: [8, 6]\n",
      "Danh sách hiện tại: [8, 6, 2]\n",
      "Danh sách hiện tại: [8, 6, 2, 9]\n",
      "Danh sách hiện tại: [8, 6, 2, 9, 25]\n",
      "Danh sách hiện tại: [8, 6, 2, 9, 25, 48]\n",
      "Danh sách hiện tại: [8, 6, 2, 9, 25, 48, 65]\n",
      "Danh sách hiện tại: [8, 6, 2, 9, 25, 48, 65, 1]\n",
      "Đã thoát chương trình\n",
      "Dãy số sau khi sắp xếp: [1, 2, 6, 8, 9, 25, 48, 65]\n",
      "Giá trị nhỏ nhất: 1\n",
      "Giá trị lớn nhất: 65\n",
      "Kết quả:  21.0\n"
     ]
    }
   ],
   "source": [
    "# Code lab 3 bài 1 ở đây\n",
    "day_so = []\n",
    "tong = 0\n",
    "dem_so = 0\n",
    "#nhập dãy số\n",
    "\n",
    "while True:\n",
    "    so = input(\"Nhập số (hoặc 'q' để thoát): \")\n",
    "    # if so.lower() == 'q':\n",
    "    #     print(\"Thoát chương trình\")\n",
    "    #     break\n",
    "    # else:\n",
    "    #     phan_tu = int(so)\n",
    "    #     day_so.append(phan_tu)\n",
    "    #     print(\"Danh sách hiện tại:\", day_so)\n",
    "    # so = input(\"Nhập số: \")\n",
    "#kiểm tra nhập\n",
    "\n",
    "    try:\n",
    "        phan_tu = int(so)\n",
    "        day_so.append(phan_tu)\n",
    "        print(\"Danh sách hiện tại:\", day_so)\n",
    "    except ValueError:\n",
    "        if so.lower() == 'q':\n",
    "            print(\"Đã thoát chương trình\")\n",
    "            break\n",
    "        print(\"Vui lòng nhập một số hợp lệ hoặc 'q' để thoát.\")\n",
    "#sắp xếp dãy số\n",
    "\n",
    "day_so.sort()\n",
    "print(\"Dãy số sau khi sắp xếp:\", day_so)\n",
    "print(\"Giá trị nhỏ nhất:\", day_so[0])\n",
    "print(\"Giá trị lớn nhất:\", day_so[-1])\n",
    "\n",
    "#tính tổng và đếm số các phần tử chia hết cho 3\n",
    "for phan_tu in day_so:\n",
    "    if phan_tu % 3 == 0:\n",
    "     tong += phan_tu\n",
    "     dem_so += 1\n",
    "if dem_so != 0:\n",
    "    print(\"Kết quả: \", tong/dem_so)\n",
    "else:\n",
    "    print(\"Không có số nào chia hết cho 3 trong dãy số.\")\n"
   ]
  },
  {
   "cell_type": "markdown",
   "id": "c0835310",
   "metadata": {},
   "source": [
    "## Lab 3 - Bài 2"
   ]
  },
  {
   "cell_type": "code",
   "execution_count": null,
   "id": "fa9cb39f",
   "metadata": {},
   "outputs": [
    {
     "name": "stdout",
     "output_type": "stream",
     "text": [
      "\n",
      "Thông tin sinh viên:\n",
      "Sinh viên: dsad - đạt: 5.0 điểm - Xếp loại: Trung bình\n"
     ]
    }
   ],
   "source": [
    "# Code lab 3  bài 2 ở đây\n",
    "sv = {}\n",
    "sv[\"Họ tên\"] = input(\"Nhập họ tên sinh viên: \")\n",
    "sv[\"Điểm\"] = float(input(\"Nhập điểm: \"))\n",
    "\n",
    "diem = sv[\"Điểm\"]\n",
    "\n",
    "if diem < 5:\n",
    "    xeploai = \"Yếu\"\n",
    "elif 5 <= diem < 7:\n",
    "    xeploai = \"Trung bình\"\n",
    "elif 7 <= diem < 8:\n",
    "    xeploai = \"Khá\"\n",
    "elif 8 <= diem < 9:\n",
    "    xeploai = \"Giỏi\"\n",
    "else:\n",
    "    xeploai = \"Xuất sắc\"\n",
    "\n",
    "sv[\"Xếp loại\"] = xeploai\n",
    "\n",
    "print(\"\\nThông tin sinh viên:\")\n",
    "print(\"Sinh viên:\", sv[\"Họ tên\"], \"- Đạt:\", sv[\"Điểm\"], \"điểm - Xếp loại:\", sv[\"Xếp loại\"])\n"
   ]
  },
  {
   "cell_type": "markdown",
   "id": "0f2483fe",
   "metadata": {},
   "source": [
    "## Lab 3 - Bài 3"
   ]
  },
  {
   "cell_type": "code",
   "execution_count": null,
   "id": "7034990b",
   "metadata": {},
   "outputs": [],
   "source": [
    "# Code lab 3  bài 3 ở đây"
   ]
  },
  {
   "cell_type": "markdown",
   "id": "d36ea3d3",
   "metadata": {},
   "source": [
    "## Lab 3 - Bài 4"
   ]
  },
  {
   "cell_type": "code",
   "execution_count": null,
   "id": "4c707ec1",
   "metadata": {},
   "outputs": [],
   "source": [
    "# code lab 3 bài 4 ở đây"
   ]
  },
  {
   "cell_type": "markdown",
   "id": "e2b41d4a",
   "metadata": {},
   "source": [
    "## Lab 3 - Bài 5: bài tập làm thêm"
   ]
  },
  {
   "cell_type": "code",
   "execution_count": null,
   "id": "0e0172f7",
   "metadata": {},
   "outputs": [
    {
     "name": "stdout",
     "output_type": "stream",
     "text": [
      "\n",
      "----- MENU -----\n",
      "0. Thoát chương trình\n",
      "1. Phép tính cơ bản: Cộng, trừ, nhân, chia\n",
      "2. Lũy thừa\n",
      "3. Căn bậc hai\n",
      "4. Hàm lượng giác: Sin, cos, tan\n",
      "5. Logarit: Log cơ số 10, ln, log cơ số tùy chọn\n",
      "6. Giải phương trình bậc nhất\n",
      "7. Giải phương trình bậc hai\n",
      "8. Lịch sử: Lưu và xem lại các phép tính đã thực hiện\n",
      "9. Thời gian: Hiển thị thời gian hiện tại\n",
      "10. Giao diện thân thiện: Menu để sử dụng bằng tiếng Việt\n",
      "\n",
      "Chức năng chưa được triển khai.\n",
      "\n",
      "----- MENU -----\n",
      "0. Thoát chương trình\n",
      "1. Phép tính cơ bản: Cộng, trừ, nhân, chia\n",
      "2. Lũy thừa\n",
      "3. Căn bậc hai\n",
      "4. Hàm lượng giác: Sin, cos, tan\n",
      "5. Logarit: Log cơ số 10, ln, log cơ số tùy chọn\n",
      "6. Giải phương trình bậc nhất\n",
      "7. Giải phương trình bậc hai\n",
      "8. Lịch sử: Lưu và xem lại các phép tính đã thực hiện\n",
      "9. Thời gian: Hiển thị thời gian hiện tại\n",
      "10. Giao diện thân thiện: Menu để sử dụng bằng tiếng Việt\n",
      "\n",
      "Nghiệm của phương trình là x = -88.8\n",
      "\n",
      "----- MENU -----\n",
      "0. Thoát chương trình\n",
      "1. Phép tính cơ bản: Cộng, trừ, nhân, chia\n",
      "2. Lũy thừa\n",
      "3. Căn bậc hai\n",
      "4. Hàm lượng giác: Sin, cos, tan\n",
      "5. Logarit: Log cơ số 10, ln, log cơ số tùy chọn\n",
      "6. Giải phương trình bậc nhất\n",
      "7. Giải phương trình bậc hai\n",
      "8. Lịch sử: Lưu và xem lại các phép tính đã thực hiện\n",
      "9. Thời gian: Hiển thị thời gian hiện tại\n",
      "10. Giao diện thân thiện: Menu để sử dụng bằng tiếng Việt\n",
      "\n"
     ]
    },
    {
     "ename": "ValueError",
     "evalue": "invalid literal for int() with base 10: ''",
     "output_type": "error",
     "traceback": [
      "\u001b[31m---------------------------------------------------------------------------\u001b[39m",
      "\u001b[31mValueError\u001b[39m                                Traceback (most recent call last)",
      "\u001b[36mCell\u001b[39m\u001b[36m \u001b[39m\u001b[32mIn[4]\u001b[39m\u001b[32m, line 21\u001b[39m\n\u001b[32m     18\u001b[39m \u001b[38;5;28;01mwhile\u001b[39;00m \u001b[38;5;28;01mTrue\u001b[39;00m:\n\u001b[32m     19\u001b[39m     \u001b[38;5;28mprint\u001b[39m(menu)\n\u001b[32m---> \u001b[39m\u001b[32m21\u001b[39m     lua_chon = \u001b[38;5;28;43mint\u001b[39;49m\u001b[43m(\u001b[49m\u001b[38;5;28;43minput\u001b[39;49m\u001b[43m(\u001b[49m\u001b[33;43m\"\u001b[39;49m\u001b[33;43mChọn một lựa chọn chương trình: \u001b[39;49m\u001b[33;43m\"\u001b[39;49m\u001b[43m)\u001b[49m\u001b[43m)\u001b[49m \n\u001b[32m     22\u001b[39m     \u001b[38;5;28;01mmatch\u001b[39;00m lua_chon:\n\u001b[32m     23\u001b[39m         \u001b[38;5;28;01mcase\u001b[39;00m \u001b[32m0\u001b[39m:\n",
      "\u001b[31mValueError\u001b[39m: invalid literal for int() with base 10: ''"
     ]
    }
   ],
   "source": [
    "# code lab 3  bài làm thêm ở đây \n",
    "import math\n",
    "import time\n",
    "menu = \"\"\"\n",
    "----- MENU -----\n",
    "0. Thoát chương trình\n",
    "1. Phép tính cơ bản: Cộng, trừ, nhân, chia\n",
    "2. Lũy thừa\n",
    "3. Căn bậc hai\n",
    "4. Hàm lượng giác: Sin, cos, tan\n",
    "5. Logarit: Log cơ số 10, ln, log cơ số tùy chọn\n",
    "6. Giải phương trình bậc nhất\n",
    "7. Giải phương trình bậc hai\n",
    "8. Lịch sử: Lưu và xem lại các phép tính đã thực hiện\n",
    "9. Thời gian: Hiển thị thời gian hiện tại\n",
    "10. Giao diện thân thiện: Menu để sử dụng bằng tiếng Việt\n",
    "\"\"\"\n",
    "while True:\n",
    "    print(menu)\n",
    "    lua_chon = int(input(\"Chọn một lựa chọn chương trình: \")) \n",
    "    match lua_chon:\n",
    "        case 0:\n",
    "            print(\"Thoát chương trình\")\n",
    "            break\n",
    "        case 1:\n",
    "            a = float(input(\"Nhập số thứ nhất: \"))\n",
    "            b = float(input(\"Nhập số thứ hai: \"))\n",
    "            print(\"Tổng:\", a + b)\n",
    "            print(\"Hiệu:\", a - b)\n",
    "            print(\"Tích:\", a * b)\n",
    "            if b != 0:\n",
    "                print(\"Thương:\", a / b)\n",
    "            else:\n",
    "                print(\"Lỗi: Không thể chia cho 0.\")\n",
    "        case 2:\n",
    "            a = float(input(\"Nhập số thứ nhất: \"))\n",
    "            b = float(input(\"Nhập số thứ hai: \"))\n",
    "            print(\"Lũy thừa:\", a ** b)\n",
    "        case 3:\n",
    "            a = float(input(\"Nhập số thứ nhất: \"))\n",
    "            b = float(input(\"Nhập số thứ hai: \"))\n",
    "            print(\"Căn bậc hai của số thứ nhất:\", math.sqrt(a))\n",
    "            print(\"Căn bậc hai của số thứ hai:\", math.sqrt(b))\n",
    "        case 4:\n",
    "            a = float(input(\"Nhập số thứ nhất: \"))\n",
    "            b = float(input(\"Nhập số thứ hai: \"))\n",
    "            print(\"Hàm lượng giác: Sin, Cos, Tan\")\n",
    "        case 5:\n",
    "            a = float(input(\"Nhập số thứ nhất: \")) \n",
    "            b = float(input(\"Nhập số thứ hai: \"))\n",
    "            print(\"Logarit: Log cơ số 10, ln, log cơ số tùy chọn\")\n",
    "            if b > 0:\n",
    "                print(\"Log cơ số tùy chọn:\", math.log(a, b))\n",
    "        case 6:\n",
    "            a = float(input(\"Nhập hệ số a (a khác 0): \"))\n",
    "            b = float(input(\"Nhập hệ số b: \"))\n",
    "            if a != 0:  \n",
    "                x = -b / a\n",
    "                print(\"Nghiệm của phương trình là x =\", x)\n",
    "        case _:\n",
    "            print(\"Chức năng chưa được triển khai.\")"
   ]
  }
 ],
 "metadata": {
  "kernelspec": {
   "display_name": "Python 3",
   "language": "python",
   "name": "python3"
  },
  "language_info": {
   "codemirror_mode": {
    "name": "ipython",
    "version": 3
   },
   "file_extension": ".py",
   "mimetype": "text/x-python",
   "name": "python",
   "nbconvert_exporter": "python",
   "pygments_lexer": "ipython3",
   "version": "3.13.7"
  }
 },
 "nbformat": 4,
 "nbformat_minor": 5
}
